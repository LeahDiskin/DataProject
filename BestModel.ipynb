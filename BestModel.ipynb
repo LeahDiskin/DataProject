{
  "nbformat": 4,
  "nbformat_minor": 0,
  "metadata": {
    "colab": {
      "name": "Copy of AnnaModel.ipynb",
      "provenance": [],
      "include_colab_link": true
    },
    "kernelspec": {
      "name": "python3",
      "display_name": "Python 3"
    },
    "language_info": {
      "name": "python"
    },
    "accelerator": "GPU",
    "gpuClass": "standard"
  },
  "cells": [
    {
      "cell_type": "markdown",
      "metadata": {
        "id": "view-in-github",
        "colab_type": "text"
      },
      "source": [
        "<a href=\"https://colab.research.google.com/github/LeahDiskin/DataProject/blob/main/BestModel.ipynb\" target=\"_parent\"><img src=\"https://colab.research.google.com/assets/colab-badge.svg\" alt=\"Open In Colab\"/></a>"
      ]
    },
    {
      "cell_type": "markdown",
      "source": [
        ""
      ],
      "metadata": {
        "id": "RyIoGuS2mtPS"
      }
    },
    {
      "cell_type": "markdown",
      "source": [
        "# New Section"
      ],
      "metadata": {
        "id": "oEjRg8MXK76D"
      }
    },
    {
      "cell_type": "code",
      "source": [
        "import sys\n",
        "from matplotlib import pyplot\n",
        "from keras.datasets import cifar10\n",
        "from tensorflow.keras.utils import to_categorical\n",
        "from keras.models import Sequential\n",
        "from keras.layers import Conv2D\n",
        "from keras.layers import MaxPooling2D\n",
        "from keras.layers import Dense\n",
        "from keras.layers import Flatten\n",
        "from tensorflow.keras.optimizers import SGD\n",
        "from keras.preprocessing.image import ImageDataGenerator\n",
        "from keras.layers import Dropout\n",
        "from keras.layers import BatchNormalization\n",
        "import numpy as np"
      ],
      "metadata": {
        "id": "3Tlw2mYMjyYH"
      },
      "execution_count": 4,
      "outputs": []
    },
    {
      "cell_type": "code",
      "source": [
        "# load train and test dataset\n",
        "def load_dataset():\n",
        "  from google.colab import drive\n",
        "  drive.mount('/content/drive')"
      ],
      "metadata": {
        "id": "LMGJrVhSAA5Z"
      },
      "execution_count": null,
      "outputs": []
    },
    {
      "cell_type": "code",
      "source": [
        "from google.colab import drive\n",
        "drive.mount('/content/drive')"
      ],
      "metadata": {
        "id": "UiUdnBuNAOdn",
        "colab": {
          "base_uri": "https://localhost:8080/"
        },
        "outputId": "cf725982-831e-4831-8d64-b41a1837afa2"
      },
      "execution_count": 5,
      "outputs": [
        {
          "output_type": "stream",
          "name": "stdout",
          "text": [
            "Mounted at /content/drive\n"
          ]
        }
      ]
    },
    {
      "cell_type": "code",
      "source": [
        "\n",
        "  \n",
        "loaded_data = np.load('/content/drive/MyDrive/Data Project/data.npz')\n",
        "x_train=loaded_data['x_train']\n",
        "x_validation=loaded_data['x_validation']\n",
        "x_test=loaded_data['x_test']\n",
        "y_train=loaded_data['y_train']\n",
        "y_test=loaded_data['y_test']\n",
        "y_validation=loaded_data['y_validation']\n",
        "num_classes =15\n",
        "# Convert class vectors to binary class matrices. This is called one hot encoding.\n",
        "y_train = to_categorical(y_train)\n",
        "y_test = to_categorical(y_test)\n",
        "y_validation = to_categorical(y_validation)\n",
        " "
      ],
      "metadata": {
        "id": "f2Y-CUcQjwvi"
      },
      "execution_count": 7,
      "outputs": []
    },
    {
      "cell_type": "code",
      "source": [
        "x_test.shape"
      ],
      "metadata": {
        "colab": {
          "base_uri": "https://localhost:8080/"
        },
        "id": "5udI56uYA85Y",
        "outputId": "3ab68093-ffea-4880-84d2-c7a1175d8836"
      },
      "execution_count": 10,
      "outputs": [
        {
          "output_type": "execute_result",
          "data": {
            "text/plain": [
              "(15000, 32, 32, 3)"
            ]
          },
          "metadata": {},
          "execution_count": 10
        }
      ]
    },
    {
      "cell_type": "code",
      "source": [
        "\n",
        "x_train = x_train.astype('float32')\n",
        "x_test = x_test.astype('float32')\n",
        "x_validation = x_validation.astype('float32')\n",
        "\n",
        "x_train /= 255\n",
        "x_test /= 255\n",
        "x_validation/=255\n",
        "\n"
      ],
      "metadata": {
        "id": "_WXPg2ybndE0"
      },
      "execution_count": 11,
      "outputs": []
    },
    {
      "cell_type": "code",
      "source": [
        "def define_model():\n",
        "\tmodel = Sequential()\n",
        "\tmodel.add(Conv2D(32, (3, 3), activation='relu', kernel_initializer='he_uniform', padding='same', input_shape=(32, 32, 3)))\n",
        "\tmodel.add(BatchNormalization())\n",
        "\tmodel.add(Conv2D(32, (3, 3), activation='relu', kernel_initializer='he_uniform', padding='same'))\n",
        "\tmodel.add(BatchNormalization())\n",
        "\tmodel.add(MaxPooling2D((2, 2)))\n",
        "\tmodel.add(Dropout(0.2))\n",
        "\tmodel.add(Conv2D(64, (3, 3), activation='relu', kernel_initializer='he_uniform', padding='same'))\n",
        "\tmodel.add(BatchNormalization())\n",
        "\tmodel.add(Conv2D(64, (3, 3), activation='relu', kernel_initializer='he_uniform', padding='same'))\n",
        "\tmodel.add(BatchNormalization())\n",
        "\tmodel.add(MaxPooling2D((2, 2)))\n",
        "\tmodel.add(Dropout(0.3))\n",
        "\tmodel.add(Conv2D(128, (3, 3), activation='relu', kernel_initializer='he_uniform', padding='same'))\n",
        "\tmodel.add(BatchNormalization())\n",
        "\tmodel.add(Conv2D(128, (3, 3), activation='relu', kernel_initializer='he_uniform', padding='same'))\n",
        "\tmodel.add(BatchNormalization())\n",
        "\tmodel.add(MaxPooling2D((2, 2)))\n",
        "\tmodel.add(Dropout(0.4))\n",
        "\tmodel.add(Flatten())\n",
        "\tmodel.add(Dense(128, activation='relu', kernel_initializer='he_uniform'))\n",
        "\tmodel.add(BatchNormalization())\n",
        "\tmodel.add(Dropout(0.5))\n",
        "\tmodel.add(Dense(15, activation='softmax'))\n",
        "\t# compile model\n",
        "\topt = SGD(lr=0.001, momentum=0.9)\n",
        "\tmodel.compile(optimizer=opt, loss='categorical_crossentropy', metrics=['accuracy'])\n",
        "\treturn model"
      ],
      "metadata": {
        "id": "VIlcg9jsnqF_"
      },
      "execution_count": 12,
      "outputs": []
    },
    {
      "cell_type": "code",
      "source": [
        "def summarize_diagnostics(history):\n",
        "\t# plot loss\n",
        "\tpyplot.subplot(211)\n",
        "\tpyplot.title('Cross Entropy Loss')\n",
        "\tpyplot.plot(history.history['loss'], color='blue', label='train')\n",
        "\tpyplot.plot(history.history['val_loss'], color='orange', label='test')\n",
        "\t# plot accuracy\n",
        "\tpyplot.subplot(212)\n",
        "\tpyplot.title('Classification Accuracy')\n",
        "\tpyplot.plot(history.history['accuracy'], color='blue', label='train')\n",
        "\tpyplot.plot(history.history['val_accuracy'], color='orange', label='test')\n",
        "\t# save plot to file\n",
        "\tfilename = sys.argv[0].split('/')[-1]\n",
        "\tpyplot.savefig(filename + '_plot.png')\n"
      ],
      "metadata": {
        "id": "dp5pADQKnuXr"
      },
      "execution_count": 13,
      "outputs": []
    },
    {
      "cell_type": "code",
      "source": [
        "# load dataset\n",
        "# x_train,y_train,x_validation,y_validation,x_test,y_test = load_dataset()\n"
      ],
      "metadata": {
        "id": "88QAFqiOlysI",
        "colab": {
          "base_uri": "https://localhost:8080/"
        },
        "outputId": "ceea094f-a4df-4355-bd87-21c6b8adbf54"
      },
      "execution_count": null,
      "outputs": [
        {
          "output_type": "stream",
          "name": "stdout",
          "text": [
            "Mounted at /content/drive\n"
          ]
        }
      ]
    },
    {
      "cell_type": "code",
      "source": [
        "# prepare pixel data\n",
        "# x_train,y_train,x_validation,y_validation,x_test,y_test = prep_pixels(x_train,y_train,x_validation,y_validation,x_test,y_test)\n"
      ],
      "metadata": {
        "id": "FOa3OmF1ly4B"
      },
      "execution_count": null,
      "outputs": []
    },
    {
      "cell_type": "code",
      "source": [
        "# define model\n",
        "model = define_model()\n"
      ],
      "metadata": {
        "id": "gE4Hv86zly6z",
        "colab": {
          "base_uri": "https://localhost:8080/"
        },
        "outputId": "c190a8e9-2a37-4bad-ec20-3a2d0e153abc"
      },
      "execution_count": 14,
      "outputs": [
        {
          "output_type": "stream",
          "name": "stderr",
          "text": [
            "/usr/local/lib/python3.7/dist-packages/keras/optimizer_v2/gradient_descent.py:102: UserWarning: The `lr` argument is deprecated, use `learning_rate` instead.\n",
            "  super(SGD, self).__init__(name, **kwargs)\n"
          ]
        }
      ]
    },
    {
      "cell_type": "code",
      "source": [
        "# create data generator\n",
        "datagen = ImageDataGenerator(width_shift_range=0.1, height_shift_range=0.1, horizontal_flip=True)\n"
      ],
      "metadata": {
        "id": "I9YVc9dDly9m"
      },
      "execution_count": 15,
      "outputs": []
    },
    {
      "cell_type": "code",
      "source": [
        "# prepare iterator\n",
        "it_train = datagen.flow(x_train, y_train, batch_size=32)\n"
      ],
      "metadata": {
        "id": "VHP1Z8iRly_b"
      },
      "execution_count": 16,
      "outputs": []
    },
    {
      "cell_type": "code",
      "source": [
        "# fit model\n",
        "steps = int(x_train.shape[0] / 32)\n",
        "history = model.fit_generator(it_train, steps_per_epoch=steps, epochs=250, validation_data=(x_validation,y_validation), verbose=1)\n"
      ],
      "metadata": {
        "id": "PeB2mSSalzBc",
        "colab": {
          "base_uri": "https://localhost:8080/"
        },
        "outputId": "11121f60-87e7-41e1-9b81-7ef0d03114a1"
      },
      "execution_count": 17,
      "outputs": [
        {
          "metadata": {
            "tags": null
          },
          "name": "stdout",
          "output_type": "stream",
          "text": [
            "Epoch 1/250\n"
          ]
        },
        {
          "metadata": {
            "tags": null
          },
          "name": "stderr",
          "output_type": "stream",
          "text": [
            "/usr/local/lib/python3.7/dist-packages/ipykernel_launcher.py:3: UserWarning: `Model.fit_generator` is deprecated and will be removed in a future version. Please use `Model.fit`, which supports generators.\n",
            "  This is separate from the ipykernel package so we can avoid doing imports until\n"
          ]
        },
        {
          "output_type": "stream",
          "name": "stdout",
          "text": [
            "1406/1406 [==============================] - 45s 23ms/step - loss: 2.4111 - accuracy: 0.2546 - val_loss: 1.7727 - val_accuracy: 0.4152\n",
            "Epoch 2/250\n",
            "1406/1406 [==============================] - 29s 20ms/step - loss: 1.9071 - accuracy: 0.3623 - val_loss: 1.6414 - val_accuracy: 0.4565\n",
            "Epoch 3/250\n",
            "1406/1406 [==============================] - 30s 21ms/step - loss: 1.7770 - accuracy: 0.4104 - val_loss: 1.6042 - val_accuracy: 0.4645\n",
            "Epoch 4/250\n",
            "1406/1406 [==============================] - 30s 21ms/step - loss: 1.6874 - accuracy: 0.4395 - val_loss: 1.5877 - val_accuracy: 0.4688\n",
            "Epoch 5/250\n",
            "1406/1406 [==============================] - 29s 21ms/step - loss: 1.6093 - accuracy: 0.4671 - val_loss: 1.4895 - val_accuracy: 0.5109\n",
            "Epoch 6/250\n",
            "1406/1406 [==============================] - 30s 21ms/step - loss: 1.5309 - accuracy: 0.4911 - val_loss: 1.3951 - val_accuracy: 0.5363\n",
            "Epoch 7/250\n",
            "1406/1406 [==============================] - 29s 21ms/step - loss: 1.4690 - accuracy: 0.5108 - val_loss: 1.3247 - val_accuracy: 0.5589\n",
            "Epoch 8/250\n",
            "1406/1406 [==============================] - 29s 21ms/step - loss: 1.4141 - accuracy: 0.5335 - val_loss: 1.2885 - val_accuracy: 0.5707\n",
            "Epoch 9/250\n",
            "1406/1406 [==============================] - 29s 21ms/step - loss: 1.3772 - accuracy: 0.5430 - val_loss: 1.2965 - val_accuracy: 0.5630\n",
            "Epoch 10/250\n",
            "1406/1406 [==============================] - 28s 20ms/step - loss: 1.3395 - accuracy: 0.5568 - val_loss: 1.2379 - val_accuracy: 0.5865\n",
            "Epoch 11/250\n",
            "1406/1406 [==============================] - 29s 21ms/step - loss: 1.3016 - accuracy: 0.5704 - val_loss: 1.2019 - val_accuracy: 0.6007\n",
            "Epoch 12/250\n",
            "1406/1406 [==============================] - 28s 20ms/step - loss: 1.2715 - accuracy: 0.5846 - val_loss: 1.2212 - val_accuracy: 0.5964\n",
            "Epoch 13/250\n",
            "1406/1406 [==============================] - 29s 21ms/step - loss: 1.2369 - accuracy: 0.5928 - val_loss: 1.1790 - val_accuracy: 0.6083\n",
            "Epoch 14/250\n",
            "1406/1406 [==============================] - 28s 20ms/step - loss: 1.2153 - accuracy: 0.6010 - val_loss: 1.1269 - val_accuracy: 0.6283\n",
            "Epoch 15/250\n",
            "1406/1406 [==============================] - 28s 20ms/step - loss: 1.1890 - accuracy: 0.6063 - val_loss: 1.2082 - val_accuracy: 0.6019\n",
            "Epoch 16/250\n",
            "1406/1406 [==============================] - 29s 21ms/step - loss: 1.1704 - accuracy: 0.6174 - val_loss: 1.1023 - val_accuracy: 0.6355\n",
            "Epoch 17/250\n",
            "1406/1406 [==============================] - 29s 20ms/step - loss: 1.1569 - accuracy: 0.6173 - val_loss: 1.0567 - val_accuracy: 0.6419\n",
            "Epoch 18/250\n",
            "1406/1406 [==============================] - 28s 20ms/step - loss: 1.1333 - accuracy: 0.6298 - val_loss: 0.9513 - val_accuracy: 0.6832\n",
            "Epoch 19/250\n",
            "1406/1406 [==============================] - 28s 20ms/step - loss: 1.1147 - accuracy: 0.6356 - val_loss: 1.1340 - val_accuracy: 0.6261\n",
            "Epoch 20/250\n",
            "1406/1406 [==============================] - 29s 21ms/step - loss: 1.0962 - accuracy: 0.6413 - val_loss: 0.9720 - val_accuracy: 0.6767\n",
            "Epoch 21/250\n",
            "1406/1406 [==============================] - 28s 20ms/step - loss: 1.0748 - accuracy: 0.6454 - val_loss: 0.9640 - val_accuracy: 0.6790\n",
            "Epoch 22/250\n",
            "1406/1406 [==============================] - 29s 21ms/step - loss: 1.0623 - accuracy: 0.6526 - val_loss: 0.9291 - val_accuracy: 0.6905\n",
            "Epoch 23/250\n",
            "1406/1406 [==============================] - 29s 21ms/step - loss: 1.0541 - accuracy: 0.6548 - val_loss: 0.9563 - val_accuracy: 0.6816\n",
            "Epoch 24/250\n",
            "1406/1406 [==============================] - 28s 20ms/step - loss: 1.0374 - accuracy: 0.6604 - val_loss: 0.8866 - val_accuracy: 0.7070\n",
            "Epoch 25/250\n",
            "1406/1406 [==============================] - 28s 20ms/step - loss: 1.0250 - accuracy: 0.6648 - val_loss: 0.8343 - val_accuracy: 0.7199\n",
            "Epoch 26/250\n",
            "1406/1406 [==============================] - 29s 21ms/step - loss: 1.0094 - accuracy: 0.6713 - val_loss: 0.9003 - val_accuracy: 0.7039\n",
            "Epoch 27/250\n",
            "1406/1406 [==============================] - 28s 20ms/step - loss: 0.9978 - accuracy: 0.6734 - val_loss: 0.8781 - val_accuracy: 0.7114\n",
            "Epoch 28/250\n",
            "1406/1406 [==============================] - 29s 21ms/step - loss: 0.9934 - accuracy: 0.6768 - val_loss: 0.8556 - val_accuracy: 0.7160\n",
            "Epoch 29/250\n",
            "1406/1406 [==============================] - 29s 21ms/step - loss: 0.9773 - accuracy: 0.6808 - val_loss: 0.8640 - val_accuracy: 0.7161\n",
            "Epoch 30/250\n",
            "1406/1406 [==============================] - 29s 21ms/step - loss: 0.9688 - accuracy: 0.6831 - val_loss: 0.8410 - val_accuracy: 0.7215\n",
            "Epoch 31/250\n",
            "1406/1406 [==============================] - 28s 20ms/step - loss: 0.9547 - accuracy: 0.6878 - val_loss: 0.8120 - val_accuracy: 0.7333\n",
            "Epoch 32/250\n",
            "1406/1406 [==============================] - 29s 21ms/step - loss: 0.9503 - accuracy: 0.6920 - val_loss: 0.8091 - val_accuracy: 0.7324\n",
            "Epoch 33/250\n",
            "1406/1406 [==============================] - 29s 21ms/step - loss: 0.9437 - accuracy: 0.6920 - val_loss: 0.8199 - val_accuracy: 0.7299\n",
            "Epoch 34/250\n",
            "1406/1406 [==============================] - 29s 21ms/step - loss: 0.9362 - accuracy: 0.6965 - val_loss: 0.7703 - val_accuracy: 0.7452\n",
            "Epoch 35/250\n",
            "1406/1406 [==============================] - 28s 20ms/step - loss: 0.9193 - accuracy: 0.6998 - val_loss: 0.7474 - val_accuracy: 0.7510\n",
            "Epoch 36/250\n",
            "1406/1406 [==============================] - 28s 20ms/step - loss: 0.9148 - accuracy: 0.7026 - val_loss: 0.7465 - val_accuracy: 0.7538\n",
            "Epoch 37/250\n",
            "1406/1406 [==============================] - 30s 21ms/step - loss: 0.9058 - accuracy: 0.7058 - val_loss: 0.8142 - val_accuracy: 0.7345\n",
            "Epoch 38/250\n",
            "1406/1406 [==============================] - 29s 20ms/step - loss: 0.8993 - accuracy: 0.7091 - val_loss: 0.7302 - val_accuracy: 0.7595\n",
            "Epoch 39/250\n",
            "1406/1406 [==============================] - 30s 21ms/step - loss: 0.8987 - accuracy: 0.7074 - val_loss: 0.7534 - val_accuracy: 0.7503\n",
            "Epoch 40/250\n",
            "1406/1406 [==============================] - 30s 21ms/step - loss: 0.8855 - accuracy: 0.7137 - val_loss: 0.8305 - val_accuracy: 0.7314\n",
            "Epoch 41/250\n",
            "1406/1406 [==============================] - 29s 21ms/step - loss: 0.8766 - accuracy: 0.7145 - val_loss: 0.7455 - val_accuracy: 0.7543\n",
            "Epoch 42/250\n",
            "1406/1406 [==============================] - 29s 21ms/step - loss: 0.8754 - accuracy: 0.7181 - val_loss: 0.7529 - val_accuracy: 0.7537\n",
            "Epoch 43/250\n",
            "1406/1406 [==============================] - 29s 21ms/step - loss: 0.8675 - accuracy: 0.7182 - val_loss: 0.7427 - val_accuracy: 0.7555\n",
            "Epoch 44/250\n",
            "1406/1406 [==============================] - 29s 21ms/step - loss: 0.8548 - accuracy: 0.7209 - val_loss: 0.7138 - val_accuracy: 0.7661\n",
            "Epoch 45/250\n",
            "1406/1406 [==============================] - 29s 21ms/step - loss: 0.8515 - accuracy: 0.7228 - val_loss: 0.7183 - val_accuracy: 0.7631\n",
            "Epoch 46/250\n",
            "1406/1406 [==============================] - 28s 20ms/step - loss: 0.8457 - accuracy: 0.7238 - val_loss: 0.7185 - val_accuracy: 0.7632\n",
            "Epoch 47/250\n",
            "1406/1406 [==============================] - 29s 21ms/step - loss: 0.8393 - accuracy: 0.7272 - val_loss: 0.8023 - val_accuracy: 0.7336\n",
            "Epoch 48/250\n",
            "1406/1406 [==============================] - 29s 21ms/step - loss: 0.8314 - accuracy: 0.7311 - val_loss: 0.7475 - val_accuracy: 0.7561\n",
            "Epoch 49/250\n",
            "1406/1406 [==============================] - 29s 21ms/step - loss: 0.8317 - accuracy: 0.7299 - val_loss: 0.6884 - val_accuracy: 0.7745\n",
            "Epoch 50/250\n",
            "1406/1406 [==============================] - 28s 20ms/step - loss: 0.8188 - accuracy: 0.7338 - val_loss: 0.6723 - val_accuracy: 0.7814\n",
            "Epoch 51/250\n",
            "1406/1406 [==============================] - 29s 21ms/step - loss: 0.8177 - accuracy: 0.7355 - val_loss: 0.6979 - val_accuracy: 0.7709\n",
            "Epoch 52/250\n",
            "1406/1406 [==============================] - 28s 20ms/step - loss: 0.8146 - accuracy: 0.7364 - val_loss: 0.7487 - val_accuracy: 0.7553\n",
            "Epoch 53/250\n",
            "1406/1406 [==============================] - 29s 20ms/step - loss: 0.8060 - accuracy: 0.7397 - val_loss: 0.7194 - val_accuracy: 0.7656\n",
            "Epoch 54/250\n",
            "1406/1406 [==============================] - 28s 20ms/step - loss: 0.7947 - accuracy: 0.7423 - val_loss: 0.6696 - val_accuracy: 0.7822\n",
            "Epoch 55/250\n",
            "1406/1406 [==============================] - 29s 20ms/step - loss: 0.7951 - accuracy: 0.7417 - val_loss: 0.7526 - val_accuracy: 0.7541\n",
            "Epoch 56/250\n",
            "1406/1406 [==============================] - 29s 20ms/step - loss: 0.7926 - accuracy: 0.7430 - val_loss: 0.7035 - val_accuracy: 0.7699\n",
            "Epoch 57/250\n",
            "1406/1406 [==============================] - 28s 20ms/step - loss: 0.7837 - accuracy: 0.7454 - val_loss: 0.7982 - val_accuracy: 0.7429\n",
            "Epoch 58/250\n",
            "1406/1406 [==============================] - 29s 21ms/step - loss: 0.7835 - accuracy: 0.7451 - val_loss: 0.7093 - val_accuracy: 0.7643\n",
            "Epoch 59/250\n",
            "1406/1406 [==============================] - 28s 20ms/step - loss: 0.7829 - accuracy: 0.7461 - val_loss: 0.6543 - val_accuracy: 0.7840\n",
            "Epoch 60/250\n",
            "1406/1406 [==============================] - 29s 21ms/step - loss: 0.7700 - accuracy: 0.7509 - val_loss: 0.6308 - val_accuracy: 0.7933\n",
            "Epoch 61/250\n",
            "1406/1406 [==============================] - 29s 20ms/step - loss: 0.7669 - accuracy: 0.7500 - val_loss: 0.7264 - val_accuracy: 0.7631\n",
            "Epoch 62/250\n",
            "1406/1406 [==============================] - 30s 21ms/step - loss: 0.7687 - accuracy: 0.7496 - val_loss: 0.6562 - val_accuracy: 0.7842\n",
            "Epoch 63/250\n",
            "1406/1406 [==============================] - 30s 21ms/step - loss: 0.7596 - accuracy: 0.7523 - val_loss: 0.6505 - val_accuracy: 0.7893\n",
            "Epoch 64/250\n",
            "1406/1406 [==============================] - 30s 21ms/step - loss: 0.7577 - accuracy: 0.7559 - val_loss: 0.6222 - val_accuracy: 0.7940\n",
            "Epoch 65/250\n",
            "1406/1406 [==============================] - 29s 20ms/step - loss: 0.7478 - accuracy: 0.7570 - val_loss: 0.6180 - val_accuracy: 0.8003\n",
            "Epoch 66/250\n",
            "1406/1406 [==============================] - 29s 20ms/step - loss: 0.7503 - accuracy: 0.7555 - val_loss: 0.6501 - val_accuracy: 0.7863\n",
            "Epoch 67/250\n",
            "1406/1406 [==============================] - 30s 21ms/step - loss: 0.7405 - accuracy: 0.7608 - val_loss: 0.6341 - val_accuracy: 0.7927\n",
            "Epoch 68/250\n",
            "1406/1406 [==============================] - 30s 21ms/step - loss: 0.7419 - accuracy: 0.7607 - val_loss: 0.6569 - val_accuracy: 0.7857\n",
            "Epoch 69/250\n",
            "1406/1406 [==============================] - 28s 20ms/step - loss: 0.7350 - accuracy: 0.7635 - val_loss: 0.6353 - val_accuracy: 0.7941\n",
            "Epoch 70/250\n",
            "1406/1406 [==============================] - 30s 21ms/step - loss: 0.7372 - accuracy: 0.7629 - val_loss: 0.6381 - val_accuracy: 0.7928\n",
            "Epoch 71/250\n",
            "1406/1406 [==============================] - 29s 20ms/step - loss: 0.7240 - accuracy: 0.7615 - val_loss: 0.6647 - val_accuracy: 0.7838\n",
            "Epoch 72/250\n",
            "1406/1406 [==============================] - 30s 21ms/step - loss: 0.7213 - accuracy: 0.7663 - val_loss: 0.6159 - val_accuracy: 0.7986\n",
            "Epoch 73/250\n",
            "1406/1406 [==============================] - 30s 21ms/step - loss: 0.7254 - accuracy: 0.7640 - val_loss: 0.6429 - val_accuracy: 0.7899\n",
            "Epoch 74/250\n",
            "1406/1406 [==============================] - 28s 20ms/step - loss: 0.7162 - accuracy: 0.7677 - val_loss: 0.5978 - val_accuracy: 0.8083\n",
            "Epoch 75/250\n",
            "1406/1406 [==============================] - 29s 20ms/step - loss: 0.7102 - accuracy: 0.7706 - val_loss: 0.6087 - val_accuracy: 0.8023\n",
            "Epoch 76/250\n",
            "1406/1406 [==============================] - 28s 20ms/step - loss: 0.7205 - accuracy: 0.7666 - val_loss: 0.5853 - val_accuracy: 0.8105\n",
            "Epoch 77/250\n",
            "1406/1406 [==============================] - 29s 21ms/step - loss: 0.7073 - accuracy: 0.7713 - val_loss: 0.6165 - val_accuracy: 0.7970\n",
            "Epoch 78/250\n",
            "1406/1406 [==============================] - 29s 21ms/step - loss: 0.7100 - accuracy: 0.7698 - val_loss: 0.6065 - val_accuracy: 0.8014\n",
            "Epoch 79/250\n",
            "1406/1406 [==============================] - 28s 20ms/step - loss: 0.7004 - accuracy: 0.7738 - val_loss: 0.6111 - val_accuracy: 0.8001\n",
            "Epoch 80/250\n",
            "1406/1406 [==============================] - 29s 21ms/step - loss: 0.6931 - accuracy: 0.7746 - val_loss: 0.6649 - val_accuracy: 0.7830\n",
            "Epoch 81/250\n",
            "1406/1406 [==============================] - 29s 21ms/step - loss: 0.6982 - accuracy: 0.7734 - val_loss: 0.6401 - val_accuracy: 0.7915\n",
            "Epoch 82/250\n",
            "1406/1406 [==============================] - 30s 21ms/step - loss: 0.6914 - accuracy: 0.7754 - val_loss: 0.5660 - val_accuracy: 0.8135\n",
            "Epoch 83/250\n",
            "1406/1406 [==============================] - 30s 21ms/step - loss: 0.6910 - accuracy: 0.7759 - val_loss: 0.6187 - val_accuracy: 0.7987\n",
            "Epoch 84/250\n",
            "1406/1406 [==============================] - 29s 20ms/step - loss: 0.6872 - accuracy: 0.7779 - val_loss: 0.6149 - val_accuracy: 0.7977\n",
            "Epoch 85/250\n",
            "1406/1406 [==============================] - 29s 20ms/step - loss: 0.6860 - accuracy: 0.7790 - val_loss: 0.5584 - val_accuracy: 0.8200\n",
            "Epoch 86/250\n",
            "1406/1406 [==============================] - 30s 21ms/step - loss: 0.6823 - accuracy: 0.7799 - val_loss: 0.6197 - val_accuracy: 0.7987\n",
            "Epoch 87/250\n",
            "1406/1406 [==============================] - 29s 20ms/step - loss: 0.6733 - accuracy: 0.7811 - val_loss: 0.6134 - val_accuracy: 0.7989\n",
            "Epoch 88/250\n",
            "1406/1406 [==============================] - 30s 21ms/step - loss: 0.6688 - accuracy: 0.7836 - val_loss: 0.5753 - val_accuracy: 0.8129\n",
            "Epoch 89/250\n",
            "1406/1406 [==============================] - 29s 21ms/step - loss: 0.6735 - accuracy: 0.7811 - val_loss: 0.6003 - val_accuracy: 0.8073\n",
            "Epoch 90/250\n",
            "1406/1406 [==============================] - 29s 21ms/step - loss: 0.6759 - accuracy: 0.7808 - val_loss: 0.5656 - val_accuracy: 0.8173\n",
            "Epoch 91/250\n",
            "1406/1406 [==============================] - 28s 20ms/step - loss: 0.6620 - accuracy: 0.7852 - val_loss: 0.5741 - val_accuracy: 0.8120\n",
            "Epoch 92/250\n",
            "1406/1406 [==============================] - 30s 21ms/step - loss: 0.6679 - accuracy: 0.7824 - val_loss: 0.5704 - val_accuracy: 0.8154\n",
            "Epoch 93/250\n",
            "1406/1406 [==============================] - 29s 20ms/step - loss: 0.6579 - accuracy: 0.7861 - val_loss: 0.5890 - val_accuracy: 0.8075\n",
            "Epoch 94/250\n",
            "1406/1406 [==============================] - 30s 21ms/step - loss: 0.6652 - accuracy: 0.7847 - val_loss: 0.5684 - val_accuracy: 0.8139\n",
            "Epoch 95/250\n",
            "1406/1406 [==============================] - 29s 21ms/step - loss: 0.6555 - accuracy: 0.7865 - val_loss: 0.5923 - val_accuracy: 0.8075\n",
            "Epoch 96/250\n",
            "1406/1406 [==============================] - 30s 21ms/step - loss: 0.6482 - accuracy: 0.7888 - val_loss: 0.5542 - val_accuracy: 0.8185\n",
            "Epoch 97/250\n",
            "1406/1406 [==============================] - 29s 20ms/step - loss: 0.6498 - accuracy: 0.7872 - val_loss: 0.5951 - val_accuracy: 0.8068\n",
            "Epoch 98/250\n",
            "1406/1406 [==============================] - 29s 20ms/step - loss: 0.6463 - accuracy: 0.7918 - val_loss: 0.5706 - val_accuracy: 0.8159\n",
            "Epoch 99/250\n",
            "1406/1406 [==============================] - 28s 20ms/step - loss: 0.6447 - accuracy: 0.7922 - val_loss: 0.5391 - val_accuracy: 0.8275\n",
            "Epoch 100/250\n",
            "1406/1406 [==============================] - 30s 21ms/step - loss: 0.6436 - accuracy: 0.7897 - val_loss: 0.5652 - val_accuracy: 0.8161\n",
            "Epoch 101/250\n",
            "1406/1406 [==============================] - 30s 21ms/step - loss: 0.6426 - accuracy: 0.7911 - val_loss: 0.5864 - val_accuracy: 0.8085\n",
            "Epoch 102/250\n",
            "1406/1406 [==============================] - 29s 21ms/step - loss: 0.6383 - accuracy: 0.7910 - val_loss: 0.5399 - val_accuracy: 0.8236\n",
            "Epoch 103/250\n",
            "1406/1406 [==============================] - 28s 20ms/step - loss: 0.6312 - accuracy: 0.7973 - val_loss: 0.5422 - val_accuracy: 0.8231\n",
            "Epoch 104/250\n",
            "1406/1406 [==============================] - 29s 21ms/step - loss: 0.6323 - accuracy: 0.7954 - val_loss: 0.5822 - val_accuracy: 0.8098\n",
            "Epoch 105/250\n",
            "1406/1406 [==============================] - 28s 20ms/step - loss: 0.6328 - accuracy: 0.7950 - val_loss: 0.5821 - val_accuracy: 0.8091\n",
            "Epoch 106/250\n",
            "1406/1406 [==============================] - 29s 20ms/step - loss: 0.6373 - accuracy: 0.7917 - val_loss: 0.5786 - val_accuracy: 0.8112\n",
            "Epoch 107/250\n",
            "1406/1406 [==============================] - 29s 21ms/step - loss: 0.6252 - accuracy: 0.7967 - val_loss: 0.5345 - val_accuracy: 0.8257\n",
            "Epoch 108/250\n",
            "1406/1406 [==============================] - 29s 20ms/step - loss: 0.6214 - accuracy: 0.7979 - val_loss: 0.5489 - val_accuracy: 0.8223\n",
            "Epoch 109/250\n",
            "1406/1406 [==============================] - 30s 21ms/step - loss: 0.6181 - accuracy: 0.8009 - val_loss: 0.5477 - val_accuracy: 0.8237\n",
            "Epoch 110/250\n",
            "1406/1406 [==============================] - 28s 20ms/step - loss: 0.6245 - accuracy: 0.7962 - val_loss: 0.5567 - val_accuracy: 0.8210\n",
            "Epoch 111/250\n",
            "1406/1406 [==============================] - 30s 21ms/step - loss: 0.6206 - accuracy: 0.7974 - val_loss: 0.5919 - val_accuracy: 0.8111\n",
            "Epoch 112/250\n",
            "1406/1406 [==============================] - 30s 21ms/step - loss: 0.6127 - accuracy: 0.8001 - val_loss: 0.5617 - val_accuracy: 0.8189\n",
            "Epoch 113/250\n",
            "1406/1406 [==============================] - 28s 20ms/step - loss: 0.6189 - accuracy: 0.7986 - val_loss: 0.5466 - val_accuracy: 0.8221\n",
            "Epoch 114/250\n",
            "1406/1406 [==============================] - 29s 20ms/step - loss: 0.6054 - accuracy: 0.8034 - val_loss: 0.5680 - val_accuracy: 0.8191\n",
            "Epoch 115/250\n",
            "1406/1406 [==============================] - 30s 21ms/step - loss: 0.6119 - accuracy: 0.8004 - val_loss: 0.5324 - val_accuracy: 0.8292\n",
            "Epoch 116/250\n",
            "1406/1406 [==============================] - 30s 21ms/step - loss: 0.6147 - accuracy: 0.7998 - val_loss: 0.5415 - val_accuracy: 0.8253\n",
            "Epoch 117/250\n",
            "1406/1406 [==============================] - 30s 21ms/step - loss: 0.6052 - accuracy: 0.8041 - val_loss: 0.5320 - val_accuracy: 0.8295\n",
            "Epoch 118/250\n",
            "1406/1406 [==============================] - 29s 20ms/step - loss: 0.6035 - accuracy: 0.8029 - val_loss: 0.5402 - val_accuracy: 0.8234\n",
            "Epoch 119/250\n",
            "1406/1406 [==============================] - 29s 20ms/step - loss: 0.6027 - accuracy: 0.8033 - val_loss: 0.5676 - val_accuracy: 0.8183\n",
            "Epoch 120/250\n",
            "1406/1406 [==============================] - 30s 21ms/step - loss: 0.5979 - accuracy: 0.8049 - val_loss: 0.5209 - val_accuracy: 0.8323\n",
            "Epoch 121/250\n",
            "1406/1406 [==============================] - 28s 20ms/step - loss: 0.6009 - accuracy: 0.8042 - val_loss: 0.5573 - val_accuracy: 0.8213\n",
            "Epoch 122/250\n",
            "1406/1406 [==============================] - 30s 21ms/step - loss: 0.6000 - accuracy: 0.8034 - val_loss: 0.6079 - val_accuracy: 0.8023\n",
            "Epoch 123/250\n",
            "1406/1406 [==============================] - 30s 21ms/step - loss: 0.5970 - accuracy: 0.8058 - val_loss: 0.5533 - val_accuracy: 0.8228\n",
            "Epoch 124/250\n",
            "1406/1406 [==============================] - 29s 20ms/step - loss: 0.6015 - accuracy: 0.8052 - val_loss: 0.5390 - val_accuracy: 0.8282\n",
            "Epoch 125/250\n",
            "1406/1406 [==============================] - 28s 20ms/step - loss: 0.5965 - accuracy: 0.8057 - val_loss: 0.5329 - val_accuracy: 0.8281\n",
            "Epoch 126/250\n",
            "1406/1406 [==============================] - 28s 20ms/step - loss: 0.5996 - accuracy: 0.8053 - val_loss: 0.5076 - val_accuracy: 0.8362\n",
            "Epoch 127/250\n",
            "1406/1406 [==============================] - 29s 21ms/step - loss: 0.5939 - accuracy: 0.8065 - val_loss: 0.5142 - val_accuracy: 0.8332\n",
            "Epoch 128/250\n",
            "1406/1406 [==============================] - 30s 21ms/step - loss: 0.5867 - accuracy: 0.8074 - val_loss: 0.5041 - val_accuracy: 0.8371\n",
            "Epoch 129/250\n",
            "1406/1406 [==============================] - 29s 20ms/step - loss: 0.5889 - accuracy: 0.8072 - val_loss: 0.5334 - val_accuracy: 0.8309\n",
            "Epoch 130/250\n",
            "1406/1406 [==============================] - 30s 21ms/step - loss: 0.5882 - accuracy: 0.8100 - val_loss: 0.5154 - val_accuracy: 0.8348\n",
            "Epoch 131/250\n",
            "1406/1406 [==============================] - 29s 20ms/step - loss: 0.5837 - accuracy: 0.8111 - val_loss: 0.5585 - val_accuracy: 0.8197\n",
            "Epoch 132/250\n",
            "1406/1406 [==============================] - 29s 21ms/step - loss: 0.5829 - accuracy: 0.8105 - val_loss: 0.5175 - val_accuracy: 0.8345\n",
            "Epoch 133/250\n",
            "1406/1406 [==============================] - 29s 20ms/step - loss: 0.5774 - accuracy: 0.8119 - val_loss: 0.5098 - val_accuracy: 0.8375\n",
            "Epoch 134/250\n",
            "1406/1406 [==============================] - 29s 21ms/step - loss: 0.5789 - accuracy: 0.8121 - val_loss: 0.5278 - val_accuracy: 0.8303\n",
            "Epoch 135/250\n",
            "1406/1406 [==============================] - 29s 21ms/step - loss: 0.5817 - accuracy: 0.8111 - val_loss: 0.5062 - val_accuracy: 0.8372\n",
            "Epoch 136/250\n",
            "1406/1406 [==============================] - 29s 21ms/step - loss: 0.5828 - accuracy: 0.8111 - val_loss: 0.5092 - val_accuracy: 0.8381\n",
            "Epoch 137/250\n",
            "1406/1406 [==============================] - 29s 21ms/step - loss: 0.5744 - accuracy: 0.8139 - val_loss: 0.5336 - val_accuracy: 0.8316\n",
            "Epoch 138/250\n",
            "1406/1406 [==============================] - 30s 21ms/step - loss: 0.5681 - accuracy: 0.8144 - val_loss: 0.5142 - val_accuracy: 0.8333\n",
            "Epoch 139/250\n",
            "1406/1406 [==============================] - 31s 22ms/step - loss: 0.5691 - accuracy: 0.8148 - val_loss: 0.5161 - val_accuracy: 0.8335\n",
            "Epoch 140/250\n",
            "1406/1406 [==============================] - 31s 22ms/step - loss: 0.5688 - accuracy: 0.8141 - val_loss: 0.5508 - val_accuracy: 0.8231\n",
            "Epoch 141/250\n",
            "1406/1406 [==============================] - 30s 21ms/step - loss: 0.5623 - accuracy: 0.8148 - val_loss: 0.5187 - val_accuracy: 0.8342\n",
            "Epoch 142/250\n",
            "1406/1406 [==============================] - 30s 22ms/step - loss: 0.5632 - accuracy: 0.8163 - val_loss: 0.5138 - val_accuracy: 0.8365\n",
            "Epoch 143/250\n",
            "1406/1406 [==============================] - 30s 21ms/step - loss: 0.5658 - accuracy: 0.8136 - val_loss: 0.5053 - val_accuracy: 0.8377\n",
            "Epoch 144/250\n",
            "1406/1406 [==============================] - 30s 22ms/step - loss: 0.5635 - accuracy: 0.8168 - val_loss: 0.4867 - val_accuracy: 0.8426\n",
            "Epoch 145/250\n",
            "1406/1406 [==============================] - 29s 21ms/step - loss: 0.5686 - accuracy: 0.8155 - val_loss: 0.5260 - val_accuracy: 0.8313\n",
            "Epoch 146/250\n",
            "1406/1406 [==============================] - 29s 21ms/step - loss: 0.5520 - accuracy: 0.8206 - val_loss: 0.5307 - val_accuracy: 0.8301\n",
            "Epoch 147/250\n",
            "1406/1406 [==============================] - 30s 21ms/step - loss: 0.5585 - accuracy: 0.8181 - val_loss: 0.5164 - val_accuracy: 0.8340\n",
            "Epoch 148/250\n",
            "1406/1406 [==============================] - 29s 21ms/step - loss: 0.5575 - accuracy: 0.8186 - val_loss: 0.5739 - val_accuracy: 0.8180\n",
            "Epoch 149/250\n",
            "1406/1406 [==============================] - 31s 22ms/step - loss: 0.5583 - accuracy: 0.8184 - val_loss: 0.4786 - val_accuracy: 0.8457\n",
            "Epoch 150/250\n",
            "1406/1406 [==============================] - 31s 22ms/step - loss: 0.5576 - accuracy: 0.8174 - val_loss: 0.5187 - val_accuracy: 0.8332\n",
            "Epoch 151/250\n",
            "1406/1406 [==============================] - 30s 21ms/step - loss: 0.5557 - accuracy: 0.8192 - val_loss: 0.5208 - val_accuracy: 0.8339\n",
            "Epoch 152/250\n",
            "1406/1406 [==============================] - 31s 22ms/step - loss: 0.5603 - accuracy: 0.8175 - val_loss: 0.4890 - val_accuracy: 0.8423\n",
            "Epoch 153/250\n",
            "1406/1406 [==============================] - 30s 21ms/step - loss: 0.5479 - accuracy: 0.8206 - val_loss: 0.5100 - val_accuracy: 0.8375\n",
            "Epoch 154/250\n",
            "1406/1406 [==============================] - 31s 22ms/step - loss: 0.5512 - accuracy: 0.8192 - val_loss: 0.5131 - val_accuracy: 0.8375\n",
            "Epoch 155/250\n",
            "1406/1406 [==============================] - 30s 21ms/step - loss: 0.5502 - accuracy: 0.8217 - val_loss: 0.5314 - val_accuracy: 0.8297\n",
            "Epoch 156/250\n",
            "1406/1406 [==============================] - 29s 21ms/step - loss: 0.5564 - accuracy: 0.8205 - val_loss: 0.5197 - val_accuracy: 0.8339\n",
            "Epoch 157/250\n",
            "1406/1406 [==============================] - 31s 22ms/step - loss: 0.5489 - accuracy: 0.8214 - val_loss: 0.4867 - val_accuracy: 0.8435\n",
            "Epoch 158/250\n",
            "1406/1406 [==============================] - 30s 21ms/step - loss: 0.5480 - accuracy: 0.8221 - val_loss: 0.4915 - val_accuracy: 0.8432\n",
            "Epoch 159/250\n",
            "1406/1406 [==============================] - 30s 21ms/step - loss: 0.5506 - accuracy: 0.8192 - val_loss: 0.5230 - val_accuracy: 0.8317\n",
            "Epoch 160/250\n",
            "1406/1406 [==============================] - 31s 22ms/step - loss: 0.5411 - accuracy: 0.8244 - val_loss: 0.5034 - val_accuracy: 0.8375\n",
            "Epoch 161/250\n",
            "1406/1406 [==============================] - 30s 21ms/step - loss: 0.5334 - accuracy: 0.8255 - val_loss: 0.4888 - val_accuracy: 0.8441\n",
            "Epoch 162/250\n",
            "1406/1406 [==============================] - 30s 21ms/step - loss: 0.5387 - accuracy: 0.8239 - val_loss: 0.4917 - val_accuracy: 0.8413\n",
            "Epoch 163/250\n",
            "1406/1406 [==============================] - 30s 22ms/step - loss: 0.5448 - accuracy: 0.8222 - val_loss: 0.5304 - val_accuracy: 0.8306\n",
            "Epoch 164/250\n",
            "1406/1406 [==============================] - 30s 21ms/step - loss: 0.5358 - accuracy: 0.8263 - val_loss: 0.5008 - val_accuracy: 0.8409\n",
            "Epoch 165/250\n",
            "1406/1406 [==============================] - 30s 21ms/step - loss: 0.5402 - accuracy: 0.8237 - val_loss: 0.4840 - val_accuracy: 0.8455\n",
            "Epoch 166/250\n",
            "1406/1406 [==============================] - 31s 22ms/step - loss: 0.5358 - accuracy: 0.8262 - val_loss: 0.4873 - val_accuracy: 0.8452\n",
            "Epoch 167/250\n",
            "1406/1406 [==============================] - 31s 22ms/step - loss: 0.5362 - accuracy: 0.8262 - val_loss: 0.4945 - val_accuracy: 0.8425\n",
            "Epoch 168/250\n",
            "1406/1406 [==============================] - 31s 22ms/step - loss: 0.5325 - accuracy: 0.8279 - val_loss: 0.4943 - val_accuracy: 0.8411\n",
            "Epoch 169/250\n",
            "1406/1406 [==============================] - 30s 21ms/step - loss: 0.5347 - accuracy: 0.8264 - val_loss: 0.5194 - val_accuracy: 0.8371\n",
            "Epoch 170/250\n",
            "1406/1406 [==============================] - 31s 22ms/step - loss: 0.5290 - accuracy: 0.8265 - val_loss: 0.5144 - val_accuracy: 0.8359\n",
            "Epoch 171/250\n",
            "1406/1406 [==============================] - 31s 22ms/step - loss: 0.5272 - accuracy: 0.8287 - val_loss: 0.5032 - val_accuracy: 0.8394\n",
            "Epoch 172/250\n",
            "1406/1406 [==============================] - 31s 22ms/step - loss: 0.5273 - accuracy: 0.8271 - val_loss: 0.5218 - val_accuracy: 0.8338\n",
            "Epoch 173/250\n",
            "1406/1406 [==============================] - 31s 22ms/step - loss: 0.5258 - accuracy: 0.8295 - val_loss: 0.4695 - val_accuracy: 0.8499\n",
            "Epoch 174/250\n",
            "1406/1406 [==============================] - 30s 21ms/step - loss: 0.5301 - accuracy: 0.8272 - val_loss: 0.5001 - val_accuracy: 0.8390\n",
            "Epoch 175/250\n",
            "1406/1406 [==============================] - 30s 21ms/step - loss: 0.5218 - accuracy: 0.8298 - val_loss: 0.4842 - val_accuracy: 0.8449\n",
            "Epoch 176/250\n",
            "1406/1406 [==============================] - 29s 21ms/step - loss: 0.5248 - accuracy: 0.8286 - val_loss: 0.4834 - val_accuracy: 0.8432\n",
            "Epoch 177/250\n",
            "1406/1406 [==============================] - 29s 21ms/step - loss: 0.5214 - accuracy: 0.8315 - val_loss: 0.5206 - val_accuracy: 0.8346\n",
            "Epoch 178/250\n",
            "1406/1406 [==============================] - 29s 21ms/step - loss: 0.5270 - accuracy: 0.8295 - val_loss: 0.5031 - val_accuracy: 0.8411\n",
            "Epoch 179/250\n",
            "1406/1406 [==============================] - 29s 21ms/step - loss: 0.5214 - accuracy: 0.8288 - val_loss: 0.4883 - val_accuracy: 0.8425\n",
            "Epoch 180/250\n",
            "1406/1406 [==============================] - 30s 22ms/step - loss: 0.5292 - accuracy: 0.8275 - val_loss: 0.4812 - val_accuracy: 0.8478\n",
            "Epoch 181/250\n",
            "1406/1406 [==============================] - 30s 22ms/step - loss: 0.5245 - accuracy: 0.8289 - val_loss: 0.4929 - val_accuracy: 0.8407\n",
            "Epoch 182/250\n",
            "1406/1406 [==============================] - 31s 22ms/step - loss: 0.5188 - accuracy: 0.8321 - val_loss: 0.4925 - val_accuracy: 0.8433\n",
            "Epoch 183/250\n",
            "1406/1406 [==============================] - 30s 21ms/step - loss: 0.5132 - accuracy: 0.8318 - val_loss: 0.5304 - val_accuracy: 0.8345\n",
            "Epoch 184/250\n",
            "1406/1406 [==============================] - 31s 22ms/step - loss: 0.5187 - accuracy: 0.8306 - val_loss: 0.5226 - val_accuracy: 0.8349\n",
            "Epoch 185/250\n",
            "1406/1406 [==============================] - 28s 20ms/step - loss: 0.5174 - accuracy: 0.8300 - val_loss: 0.4743 - val_accuracy: 0.8489\n",
            "Epoch 186/250\n",
            "1406/1406 [==============================] - 29s 21ms/step - loss: 0.5132 - accuracy: 0.8329 - val_loss: 0.5062 - val_accuracy: 0.8399\n",
            "Epoch 187/250\n",
            "1406/1406 [==============================] - 29s 21ms/step - loss: 0.5122 - accuracy: 0.8325 - val_loss: 0.4769 - val_accuracy: 0.8461\n",
            "Epoch 188/250\n",
            "1406/1406 [==============================] - 30s 21ms/step - loss: 0.5091 - accuracy: 0.8323 - val_loss: 0.4824 - val_accuracy: 0.8441\n",
            "Epoch 189/250\n",
            "1406/1406 [==============================] - 29s 21ms/step - loss: 0.5166 - accuracy: 0.8303 - val_loss: 0.4740 - val_accuracy: 0.8476\n",
            "Epoch 190/250\n",
            "1406/1406 [==============================] - 29s 21ms/step - loss: 0.5131 - accuracy: 0.8324 - val_loss: 0.4825 - val_accuracy: 0.8460\n",
            "Epoch 191/250\n",
            "1406/1406 [==============================] - 29s 21ms/step - loss: 0.5122 - accuracy: 0.8337 - val_loss: 0.4717 - val_accuracy: 0.8479\n",
            "Epoch 192/250\n",
            "1406/1406 [==============================] - 30s 22ms/step - loss: 0.5152 - accuracy: 0.8322 - val_loss: 0.4714 - val_accuracy: 0.8500\n",
            "Epoch 193/250\n",
            "1406/1406 [==============================] - 29s 21ms/step - loss: 0.5141 - accuracy: 0.8332 - val_loss: 0.5107 - val_accuracy: 0.8398\n",
            "Epoch 194/250\n",
            "1406/1406 [==============================] - 29s 21ms/step - loss: 0.5076 - accuracy: 0.8330 - val_loss: 0.4781 - val_accuracy: 0.8457\n",
            "Epoch 195/250\n",
            "1406/1406 [==============================] - 29s 21ms/step - loss: 0.5042 - accuracy: 0.8358 - val_loss: 0.4859 - val_accuracy: 0.8457\n",
            "Epoch 196/250\n",
            "1406/1406 [==============================] - 29s 21ms/step - loss: 0.5064 - accuracy: 0.8332 - val_loss: 0.4965 - val_accuracy: 0.8407\n",
            "Epoch 197/250\n",
            "1406/1406 [==============================] - 30s 22ms/step - loss: 0.5063 - accuracy: 0.8343 - val_loss: 0.4688 - val_accuracy: 0.8485\n",
            "Epoch 198/250\n",
            "1406/1406 [==============================] - 30s 22ms/step - loss: 0.5046 - accuracy: 0.8336 - val_loss: 0.4995 - val_accuracy: 0.8445\n",
            "Epoch 199/250\n",
            "1406/1406 [==============================] - 30s 21ms/step - loss: 0.5046 - accuracy: 0.8345 - val_loss: 0.4684 - val_accuracy: 0.8503\n",
            "Epoch 200/250\n",
            "1406/1406 [==============================] - 30s 21ms/step - loss: 0.5011 - accuracy: 0.8352 - val_loss: 0.4678 - val_accuracy: 0.8519\n",
            "Epoch 201/250\n",
            "1406/1406 [==============================] - 31s 22ms/step - loss: 0.5010 - accuracy: 0.8370 - val_loss: 0.4896 - val_accuracy: 0.8430\n",
            "Epoch 202/250\n",
            "1406/1406 [==============================] - 30s 21ms/step - loss: 0.5030 - accuracy: 0.8346 - val_loss: 0.4865 - val_accuracy: 0.8460\n",
            "Epoch 203/250\n",
            "1406/1406 [==============================] - 31s 22ms/step - loss: 0.4999 - accuracy: 0.8349 - val_loss: 0.4818 - val_accuracy: 0.8477\n",
            "Epoch 204/250\n",
            "1406/1406 [==============================] - 31s 22ms/step - loss: 0.4997 - accuracy: 0.8386 - val_loss: 0.4949 - val_accuracy: 0.8448\n",
            "Epoch 205/250\n",
            "1406/1406 [==============================] - 30s 21ms/step - loss: 0.4916 - accuracy: 0.8389 - val_loss: 0.5445 - val_accuracy: 0.8293\n",
            "Epoch 206/250\n",
            "1406/1406 [==============================] - 29s 21ms/step - loss: 0.4983 - accuracy: 0.8383 - val_loss: 0.4627 - val_accuracy: 0.8522\n",
            "Epoch 207/250\n",
            "1406/1406 [==============================] - 31s 22ms/step - loss: 0.4935 - accuracy: 0.8395 - val_loss: 0.4776 - val_accuracy: 0.8488\n",
            "Epoch 208/250\n",
            "1406/1406 [==============================] - 30s 21ms/step - loss: 0.4908 - accuracy: 0.8382 - val_loss: 0.4765 - val_accuracy: 0.8447\n",
            "Epoch 209/250\n",
            "1406/1406 [==============================] - 31s 22ms/step - loss: 0.4919 - accuracy: 0.8390 - val_loss: 0.4691 - val_accuracy: 0.8481\n",
            "Epoch 210/250\n",
            "1406/1406 [==============================] - 30s 21ms/step - loss: 0.4993 - accuracy: 0.8382 - val_loss: 0.4539 - val_accuracy: 0.8540\n",
            "Epoch 211/250\n",
            "1406/1406 [==============================] - 30s 21ms/step - loss: 0.4892 - accuracy: 0.8408 - val_loss: 0.4537 - val_accuracy: 0.8543\n",
            "Epoch 212/250\n",
            "1406/1406 [==============================] - 30s 21ms/step - loss: 0.4917 - accuracy: 0.8374 - val_loss: 0.4546 - val_accuracy: 0.8539\n",
            "Epoch 213/250\n",
            "1406/1406 [==============================] - 30s 21ms/step - loss: 0.4897 - accuracy: 0.8404 - val_loss: 0.4615 - val_accuracy: 0.8506\n",
            "Epoch 214/250\n",
            "1406/1406 [==============================] - 31s 22ms/step - loss: 0.4935 - accuracy: 0.8388 - val_loss: 0.4771 - val_accuracy: 0.8497\n",
            "Epoch 215/250\n",
            "1406/1406 [==============================] - 30s 21ms/step - loss: 0.4901 - accuracy: 0.8382 - val_loss: 0.4898 - val_accuracy: 0.8448\n",
            "Epoch 216/250\n",
            "1406/1406 [==============================] - 31s 22ms/step - loss: 0.4925 - accuracy: 0.8415 - val_loss: 0.4763 - val_accuracy: 0.8497\n",
            "Epoch 217/250\n",
            "1406/1406 [==============================] - 30s 21ms/step - loss: 0.4926 - accuracy: 0.8396 - val_loss: 0.4597 - val_accuracy: 0.8507\n",
            "Epoch 218/250\n",
            "1406/1406 [==============================] - 30s 22ms/step - loss: 0.4786 - accuracy: 0.8443 - val_loss: 0.4689 - val_accuracy: 0.8511\n",
            "Epoch 219/250\n",
            "1406/1406 [==============================] - 30s 21ms/step - loss: 0.4833 - accuracy: 0.8420 - val_loss: 0.4816 - val_accuracy: 0.8478\n",
            "Epoch 220/250\n",
            "1406/1406 [==============================] - 31s 22ms/step - loss: 0.4828 - accuracy: 0.8420 - val_loss: 0.4900 - val_accuracy: 0.8458\n",
            "Epoch 221/250\n",
            "1406/1406 [==============================] - 30s 21ms/step - loss: 0.4818 - accuracy: 0.8423 - val_loss: 0.4612 - val_accuracy: 0.8521\n",
            "Epoch 222/250\n",
            "1406/1406 [==============================] - 30s 21ms/step - loss: 0.4845 - accuracy: 0.8406 - val_loss: 0.4965 - val_accuracy: 0.8427\n",
            "Epoch 223/250\n",
            "1406/1406 [==============================] - 31s 22ms/step - loss: 0.4823 - accuracy: 0.8417 - val_loss: 0.4571 - val_accuracy: 0.8572\n",
            "Epoch 224/250\n",
            "1406/1406 [==============================] - 30s 22ms/step - loss: 0.4836 - accuracy: 0.8406 - val_loss: 0.4610 - val_accuracy: 0.8537\n",
            "Epoch 225/250\n",
            "1406/1406 [==============================] - 31s 22ms/step - loss: 0.4772 - accuracy: 0.8414 - val_loss: 0.4845 - val_accuracy: 0.8462\n",
            "Epoch 226/250\n",
            "1406/1406 [==============================] - 30s 22ms/step - loss: 0.4804 - accuracy: 0.8411 - val_loss: 0.4809 - val_accuracy: 0.8472\n",
            "Epoch 227/250\n",
            "1406/1406 [==============================] - 30s 22ms/step - loss: 0.4850 - accuracy: 0.8414 - val_loss: 0.4721 - val_accuracy: 0.8491\n",
            "Epoch 228/250\n",
            "1406/1406 [==============================] - 30s 21ms/step - loss: 0.4775 - accuracy: 0.8433 - val_loss: 0.5307 - val_accuracy: 0.8325\n",
            "Epoch 229/250\n",
            "1406/1406 [==============================] - 31s 22ms/step - loss: 0.4804 - accuracy: 0.8442 - val_loss: 0.4821 - val_accuracy: 0.8475\n",
            "Epoch 230/250\n",
            "1406/1406 [==============================] - 31s 22ms/step - loss: 0.4764 - accuracy: 0.8433 - val_loss: 0.4541 - val_accuracy: 0.8556\n",
            "Epoch 231/250\n",
            "1406/1406 [==============================] - 31s 22ms/step - loss: 0.4755 - accuracy: 0.8438 - val_loss: 0.4660 - val_accuracy: 0.8531\n",
            "Epoch 232/250\n",
            "1406/1406 [==============================] - 31s 22ms/step - loss: 0.4769 - accuracy: 0.8434 - val_loss: 0.4681 - val_accuracy: 0.8527\n",
            "Epoch 233/250\n",
            "1406/1406 [==============================] - 31s 22ms/step - loss: 0.4753 - accuracy: 0.8452 - val_loss: 0.4492 - val_accuracy: 0.8573\n",
            "Epoch 234/250\n",
            "1406/1406 [==============================] - 31s 22ms/step - loss: 0.4723 - accuracy: 0.8464 - val_loss: 0.4526 - val_accuracy: 0.8556\n",
            "Epoch 235/250\n",
            "1406/1406 [==============================] - 31s 22ms/step - loss: 0.4730 - accuracy: 0.8453 - val_loss: 0.5162 - val_accuracy: 0.8375\n",
            "Epoch 236/250\n",
            "1406/1406 [==============================] - 30s 21ms/step - loss: 0.4703 - accuracy: 0.8476 - val_loss: 0.4552 - val_accuracy: 0.8560\n",
            "Epoch 237/250\n",
            "1406/1406 [==============================] - 30s 21ms/step - loss: 0.4699 - accuracy: 0.8448 - val_loss: 0.4736 - val_accuracy: 0.8507\n",
            "Epoch 238/250\n",
            "1406/1406 [==============================] - 31s 22ms/step - loss: 0.4691 - accuracy: 0.8456 - val_loss: 0.4802 - val_accuracy: 0.8523\n",
            "Epoch 239/250\n",
            "1406/1406 [==============================] - 31s 22ms/step - loss: 0.4680 - accuracy: 0.8469 - val_loss: 0.4784 - val_accuracy: 0.8517\n",
            "Epoch 240/250\n",
            "1406/1406 [==============================] - 31s 22ms/step - loss: 0.4690 - accuracy: 0.8446 - val_loss: 0.4639 - val_accuracy: 0.8543\n",
            "Epoch 241/250\n",
            "1406/1406 [==============================] - 31s 22ms/step - loss: 0.4721 - accuracy: 0.8451 - val_loss: 0.4627 - val_accuracy: 0.8534\n",
            "Epoch 242/250\n",
            "1406/1406 [==============================] - 31s 22ms/step - loss: 0.4672 - accuracy: 0.8479 - val_loss: 0.4670 - val_accuracy: 0.8533\n",
            "Epoch 243/250\n",
            "1406/1406 [==============================] - 31s 22ms/step - loss: 0.4725 - accuracy: 0.8459 - val_loss: 0.4540 - val_accuracy: 0.8561\n",
            "Epoch 244/250\n",
            "1406/1406 [==============================] - 31s 22ms/step - loss: 0.4774 - accuracy: 0.8441 - val_loss: 0.4704 - val_accuracy: 0.8537\n",
            "Epoch 245/250\n",
            "1406/1406 [==============================] - 31s 22ms/step - loss: 0.4680 - accuracy: 0.8448 - val_loss: 0.4421 - val_accuracy: 0.8597\n",
            "Epoch 246/250\n",
            "1406/1406 [==============================] - 31s 22ms/step - loss: 0.4624 - accuracy: 0.8483 - val_loss: 0.4593 - val_accuracy: 0.8547\n",
            "Epoch 247/250\n",
            "1406/1406 [==============================] - 31s 22ms/step - loss: 0.4720 - accuracy: 0.8457 - val_loss: 0.4537 - val_accuracy: 0.8567\n",
            "Epoch 248/250\n",
            "1406/1406 [==============================] - 30s 21ms/step - loss: 0.4688 - accuracy: 0.8458 - val_loss: 0.4644 - val_accuracy: 0.8519\n",
            "Epoch 249/250\n",
            "1406/1406 [==============================] - 30s 21ms/step - loss: 0.4734 - accuracy: 0.8468 - val_loss: 0.4745 - val_accuracy: 0.8499\n",
            "Epoch 250/250\n",
            "1406/1406 [==============================] - 31s 22ms/step - loss: 0.4653 - accuracy: 0.8478 - val_loss: 0.4807 - val_accuracy: 0.8489\n"
          ]
        }
      ]
    },
    {
      "cell_type": "code",
      "source": [
        "# evaluate model\n",
        "_, acc = model.evaluate(x_validation,y_validation, verbose=1)\n",
        "print('> %.3f' % (acc * 100.0))\n"
      ],
      "metadata": {
        "id": "5oP_5ojUlzE1",
        "colab": {
          "base_uri": "https://localhost:8080/"
        },
        "outputId": "0f0f3385-22f0-4664-d696-6aa300abdfe7"
      },
      "execution_count": 18,
      "outputs": [
        {
          "output_type": "stream",
          "name": "stdout",
          "text": [
            "469/469 [==============================] - 2s 4ms/step - loss: 0.4807 - accuracy: 0.8489\n",
            "> 84.887\n"
          ]
        }
      ]
    },
    {
      "cell_type": "code",
      "source": [
        "# learning curves\n",
        "summarize_diagnostics(history)"
      ],
      "metadata": {
        "id": "YqVjalPgn69O",
        "colab": {
          "base_uri": "https://localhost:8080/",
          "height": 281
        },
        "outputId": "44b281f2-ae6f-48cf-b62e-4358da0f4ad5"
      },
      "execution_count": 19,
      "outputs": [
        {
          "output_type": "display_data",
          "data": {
            "text/plain": [
              "<Figure size 432x288 with 2 Axes>"
            ],
            "image/png": "[encoded data removed]"
          },
          "metadata": {
            "needs_background": "light"
          }
        }
      ]
    },
    {
      "cell_type": "code",
      "source": [
        "import pandas as pd\n",
        "model.save(r'/content/drive/MyDrive/Data Project/model', save_format='h5')\n",
        "pd.DataFrame(history.history).to_csv('/content/drive/MyDrive/Data Project/model.csv')\n",
        " "
      ],
      "metadata": {
        "id": "qR4uJzKk3xcz"
      },
      "execution_count": 20,
      "outputs": []
    }
  ]
}