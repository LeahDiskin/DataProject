{
  "cells": [
    {
      "cell_type": "markdown",
      "metadata": {
        "id": "view-in-github",
        "colab_type": "text"
      },
      "source": [
        "<a href=\"https://colab.research.google.com/github/LeahDiskin/DataProject/blob/main/model.ipynb\" target=\"_parent\"><img src=\"https://colab.research.google.com/assets/colab-badge.svg\" alt=\"Open In Colab\"/></a>"
      ]
    },
    {
      "cell_type": "code",
      "execution_count": null,
      "metadata": {
        "colab": {
          "background_save": true
        },
        "id": "11Y41fKnWC0-"
      },
      "outputs": [],
      "source": [
        "from __future__ import print_function\n",
        "from tensorflow import keras\n",
        "from keras.datasets import cifar10\n",
        "from keras.preprocessing.image import ImageDataGenerator\n",
        "from keras.models import Sequential\n",
        "from keras.layers import Dense, Dropout, Activation, Flatten\n",
        "from keras.layers import Conv2D, MaxPooling2D\n",
        "import os\n",
        "\n",
        "import numpy as np\n",
        "import seaborn as sns\n",
        "import matplotlib\n",
        "import matplotlib.pyplot as plt\n",
        "\n",
        "from sklearn.metrics import confusion_matrix, classification_report\n",
        "import itertools\n",
        "from pathlib import Path\n",
        "%matplotlib inline"
      ]
    },
    {
      "cell_type": "code",
      "execution_count": null,
      "metadata": {
        "id": "se9V9v4ozKV0"
      },
      "outputs": [],
      "source": [
        ""
      ]
    },
    {
      "cell_type": "code",
      "execution_count": null,
      "metadata": {
        "colab": {
          "base_uri": "https://localhost:8080/"
        },
        "id": "693y-OTMWPuk",
        "outputId": "86aa1b56-e97f-49a0-9def-509f36d45fc3"
      },
      "outputs": [
        {
          "name": "stdout",
          "output_type": "stream",
          "text": [
            "Mounted at /content/drive\n"
          ]
        }
      ],
      "source": [
        "import numpy as np\n",
        "from google.colab import drive\n",
        "drive.mount('/content/drive')\n",
        "data=np.load(r\"drive/MyDrive/Data Project/data.npz\")\n",
        "# train=np.load(r\"drive/MyDrive/Data Project/train.npz\")\n",
        "# validation=np.load(r\"drive/MyDrive/Data Project/validation.npz\")\n",
        "# test=np.load(r\"drive/MyDrive/Data Project/test.npz\")"
      ]
    },
    {
      "cell_type": "code",
      "execution_count": null,
      "metadata": {
        "colab": {
          "base_uri": "https://localhost:8080/"
        },
        "id": "YlLBPByOzD6y",
        "outputId": "1a6b211d-508e-4423-c228-7ccfafc8f622"
      },
      "outputs": [
        {
          "data": {
            "text/plain": [
              "<numpy.lib.npyio.NpzFile at 0x7f110a7fb810>"
            ]
          },
          "execution_count": 2,
          "metadata": {},
          "output_type": "execute_result"
        }
      ],
      "source": [
        "data"
      ]
    },
    {
      "cell_type": "code",
      "execution_count": null,
      "metadata": {
        "id": "YdeoP99-WaFE"
      },
      "outputs": [],
      "source": [
        "batch_size = 32  # The default batch size of keras.\n",
        "num_classes = 15  # Number of class for the dataset\n",
        "epochs = 70\n",
        "data_augmentation = False"
      ]
    },
    {
      "cell_type": "code",
      "execution_count": null,
      "metadata": {
        "id": "KJDe5XLVWeEV"
      },
      "outputs": [],
      "source": [
        "x_train=train['x_train']\n",
        "y_train=train['y_train']\n",
        "x_validation=validation['x_validation']\n",
        "y_validation=validation['y_validation']\n",
        "x_test=test['x_test']\n",
        "y_test=test['y_test']\n",
        "y_train = np.reshape(y_train, (-1, 1))\n",
        "y_validation = np.reshape(y_validation, (-1, 1))\n",
        "y_test = np.reshape(y_test, (-1, 1))"
      ]
    },
    {
      "cell_type": "code",
      "execution_count": null,
      "metadata": {
        "colab": {
          "base_uri": "https://localhost:8080/"
        },
        "id": "Rs4htMdEWqXD",
        "outputId": "14ae87fb-527e-40ff-d4bd-5febfd35d6c8"
      },
      "outputs": [
        {
          "name": "stdout",
          "output_type": "stream",
          "text": [
            "(1000, 32, 32, 3)\n",
            "(1000, 1)\n"
          ]
        }
      ],
      "source": [
        "print(x_validation.shape)\n",
        "print(y_validation.shape)"
      ]
    },
    {
      "cell_type": "code",
      "execution_count": null,
      "metadata": {
        "colab": {
          "base_uri": "https://localhost:8080/"
        },
        "id": "lSXcaSMrWs4x",
        "outputId": "32be354c-a3cb-42e3-874b-cc042a77cc5a"
      },
      "outputs": [
        {
          "name": "stdout",
          "output_type": "stream",
          "text": [
            "(1000, 32, 32, 3)\n",
            "(1000, 15)\n"
          ]
        }
      ],
      "source": [
        "# x_train = x_train.astype('float32')\n",
        "# x_test = x_test.astype('float32')\n",
        "# x_validation=x_validation.astype('float32')\n",
        "x_train /= 255\n",
        "x_test /= 255\n",
        "x_validation/=255\n",
        "\n",
        "# Convert class vectors to binary class matrices. This is called one hot encoding.\n",
        "y_train = keras.utils.to_categorical(y_train, num_classes)\n",
        "y_validation = keras.utils.to_categorical(y_validation, num_classes)\n",
        "y_test = keras.utils.to_categorical(y_test, num_classes)\n",
        "print(x_validation.shape)\n",
        "print(y_validation.shape)"
      ]
    },
    {
      "cell_type": "code",
      "execution_count": null,
      "metadata": {
        "colab": {
          "base_uri": "https://localhost:8080/"
        },
        "id": "hE3sXHSoWyjC",
        "outputId": "e302ae62-37ac-4c54-912c-4bddbc60e63b"
      },
      "outputs": [
        {
          "name": "stdout",
          "output_type": "stream",
          "text": [
            "Model: \"sequential_2\"\n",
            "_________________________________________________________________\n",
            " Layer (type)                Output Shape              Param #   \n",
            "=================================================================\n",
            " conv2d_8 (Conv2D)           (None, 32, 32, 32)        896       \n",
            "                                                                 \n",
            " activation_10 (Activation)  (None, 32, 32, 32)        0         \n",
            "                                                                 \n",
            " conv2d_9 (Conv2D)           (None, 30, 30, 32)        9248      \n",
            "                                                                 \n",
            " activation_11 (Activation)  (None, 30, 30, 32)        0         \n",
            "                                                                 \n",
            " max_pooling2d_4 (MaxPooling  (None, 15, 15, 32)       0         \n",
            " 2D)                                                             \n",
            "                                                                 \n",
            " dropout_6 (Dropout)         (None, 15, 15, 32)        0         \n",
            "                                                                 \n",
            " conv2d_10 (Conv2D)          (None, 15, 15, 64)        18496     \n",
            "                                                                 \n",
            " activation_12 (Activation)  (None, 15, 15, 64)        0         \n",
            "                                                                 \n",
            " conv2d_11 (Conv2D)          (None, 13, 13, 64)        36928     \n",
            "                                                                 \n",
            " max_pooling2d_5 (MaxPooling  (None, 6, 6, 64)         0         \n",
            " 2D)                                                             \n",
            "                                                                 \n",
            " dropout_7 (Dropout)         (None, 6, 6, 64)          0         \n",
            "                                                                 \n",
            " flatten_2 (Flatten)         (None, 2304)              0         \n",
            "                                                                 \n",
            " dense_4 (Dense)             (None, 512)               1180160   \n",
            "                                                                 \n",
            " activation_13 (Activation)  (None, 512)               0         \n",
            "                                                                 \n",
            " dropout_8 (Dropout)         (None, 512)               0         \n",
            "                                                                 \n",
            " dense_5 (Dense)             (None, 15)                7695      \n",
            "                                                                 \n",
            " activation_14 (Activation)  (None, 15)                0         \n",
            "                                                                 \n",
            "=================================================================\n",
            "Total params: 1,253,423\n",
            "Trainable params: 1,253,423\n",
            "Non-trainable params: 0\n",
            "_________________________________________________________________\n"
          ]
        }
      ],
      "source": [
        "#define the convnet\n",
        "model = Sequential()\n",
        "# CONV => RELU => CONV => RELU => POOL => DROPOUT\n",
        "model.add(Conv2D(32, (3, 3), padding='same',input_shape=x_train.shape[1:]))\n",
        "model.add(Activation('relu'))\n",
        "model.add(Conv2D(32, (3, 3)))\n",
        "model.add(Activation('relu'))\n",
        "model.add(MaxPooling2D(pool_size=(2, 2)))\n",
        "model.add(Dropout(0.25))\n",
        "\n",
        "# CONV => RELU => CONV => RELU => POOL => DROPOUT\n",
        "model.add(Conv2D(64, (3, 3), padding='same'))\n",
        "model.add(Activation('relu'))\n",
        "model.add(Conv2D(64, (3, 3)))\n",
        "# model.add(Activation('relu'))\n",
        "model.add(MaxPooling2D(pool_size=(2, 2)))\n",
        "model.add(Dropout(0.25))\n",
        "\n",
        "# FLATTERN => DENSE => RELU => DROPOUT\n",
        "model.add(Flatten())\n",
        "model.add(Dense(512))\n",
        "model.add(Activation('relu'))\n",
        "model.add(Dropout(0.5))\n",
        "# a softmax classifier\n",
        "model.add(Dense(num_classes))\n",
        "model.add(Activation('softmax'))\n",
        "\n",
        "model.summary()"
      ]
    },
    {
      "cell_type": "code",
      "execution_count": null,
      "metadata": {
        "id": "moRw4BVWW0C_"
      },
      "outputs": [],
      "source": [
        "# initiate RMSprop optimizer\n",
        "opt = keras.optimizers.RMSprop(learning_rate=0.0001, decay=1e-6)\n",
        "\n",
        "# Let's train the model using RMSprop\n",
        "model.compile(loss='categorical_crossentropy',\n",
        "              optimizer=opt,\n",
        "              metrics=['accuracy'])"
      ]
    },
    {
      "cell_type": "code",
      "execution_count": null,
      "metadata": {
        "colab": {
          "base_uri": "https://localhost:8080/"
        },
        "id": "5uI0Dj_cW3nP",
        "outputId": "3aee3cd9-3640-4cde-bdd6-53e35afefecf"
      },
      "outputs": [
        {
          "data": {
            "text/plain": [
              "(1000, 15)"
            ]
          },
          "execution_count": 23,
          "metadata": {},
          "output_type": "execute_result"
        }
      ],
      "source": [
        "y_validation.shape"
      ]
    },
    {
      "cell_type": "code",
      "execution_count": null,
      "metadata": {
        "colab": {
          "base_uri": "https://localhost:8080/"
        },
        "id": "AA0mCEvXW6o3",
        "outputId": "adb88373-1a4b-4d7b-f086-49f498dfbb22"
      },
      "outputs": [
        {
          "name": "stdout",
          "output_type": "stream",
          "text": [
            "Not using data augmentation.\n",
            "Epoch 1/120\n",
            "32/32 [==============================] - 7s 181ms/step - loss: 2.6951 - accuracy: 0.1010 - val_loss: 2.6877 - val_accuracy: 0.0790\n",
            "Epoch 2/120\n",
            "32/32 [==============================] - 5s 162ms/step - loss: 2.6635 - accuracy: 0.0960 - val_loss: 2.6874 - val_accuracy: 0.0790\n",
            "Epoch 3/120\n",
            "32/32 [==============================] - 5s 163ms/step - loss: 2.6597 - accuracy: 0.1020 - val_loss: 2.6873 - val_accuracy: 0.0790\n",
            "Epoch 4/120\n",
            "32/32 [==============================] - 5s 163ms/step - loss: 2.6620 - accuracy: 0.0900 - val_loss: 2.6920 - val_accuracy: 0.0790\n",
            "Epoch 5/120\n",
            "32/32 [==============================] - 5s 163ms/step - loss: 2.6548 - accuracy: 0.0950 - val_loss: 2.6885 - val_accuracy: 0.0790\n",
            "Epoch 6/120\n",
            "32/32 [==============================] - 5s 163ms/step - loss: 2.6540 - accuracy: 0.1010 - val_loss: 2.6922 - val_accuracy: 0.0790\n",
            "Epoch 7/120\n",
            "32/32 [==============================] - 5s 164ms/step - loss: 2.6525 - accuracy: 0.1000 - val_loss: 2.6927 - val_accuracy: 0.0790\n",
            "Epoch 8/120\n",
            "32/32 [==============================] - 5s 164ms/step - loss: 2.6512 - accuracy: 0.1080 - val_loss: 2.6910 - val_accuracy: 0.0790\n",
            "Epoch 9/120\n",
            "32/32 [==============================] - 5s 164ms/step - loss: 2.6483 - accuracy: 0.1040 - val_loss: 2.6873 - val_accuracy: 0.0790\n",
            "Epoch 10/120\n",
            "32/32 [==============================] - 5s 163ms/step - loss: 2.6507 - accuracy: 0.1070 - val_loss: 2.6937 - val_accuracy: 0.0790\n",
            "Epoch 11/120\n",
            "32/32 [==============================] - 5s 165ms/step - loss: 2.6560 - accuracy: 0.1100 - val_loss: 2.6941 - val_accuracy: 0.0790\n",
            "Epoch 12/120\n",
            "32/32 [==============================] - 5s 163ms/step - loss: 2.6521 - accuracy: 0.1120 - val_loss: 2.6923 - val_accuracy: 0.0790\n",
            "Epoch 13/120\n",
            "32/32 [==============================] - 5s 165ms/step - loss: 2.6548 - accuracy: 0.0920 - val_loss: 2.6885 - val_accuracy: 0.0790\n",
            "Epoch 14/120\n",
            "32/32 [==============================] - 5s 164ms/step - loss: 2.6542 - accuracy: 0.1070 - val_loss: 2.6961 - val_accuracy: 0.0790\n",
            "Epoch 15/120\n",
            "32/32 [==============================] - 7s 222ms/step - loss: 2.6554 - accuracy: 0.1080 - val_loss: 2.7022 - val_accuracy: 0.0790\n",
            "Epoch 16/120\n",
            "32/32 [==============================] - 5s 163ms/step - loss: 2.6539 - accuracy: 0.1100 - val_loss: 2.6922 - val_accuracy: 0.0790\n",
            "Epoch 17/120\n",
            "32/32 [==============================] - 5s 165ms/step - loss: 2.6489 - accuracy: 0.1110 - val_loss: 2.6903 - val_accuracy: 0.0790\n",
            "Epoch 18/120\n",
            "32/32 [==============================] - 5s 164ms/step - loss: 2.6550 - accuracy: 0.1040 - val_loss: 2.6903 - val_accuracy: 0.0790\n",
            "Epoch 19/120\n",
            "32/32 [==============================] - 5s 164ms/step - loss: 2.6537 - accuracy: 0.1060 - val_loss: 2.6897 - val_accuracy: 0.0790\n",
            "Epoch 20/120\n",
            "32/32 [==============================] - 5s 163ms/step - loss: 2.6513 - accuracy: 0.1090 - val_loss: 2.6904 - val_accuracy: 0.0790\n",
            "Epoch 21/120\n",
            "32/32 [==============================] - 5s 165ms/step - loss: 2.6509 - accuracy: 0.1030 - val_loss: 2.6943 - val_accuracy: 0.0790\n",
            "Epoch 22/120\n",
            "32/32 [==============================] - 5s 163ms/step - loss: 2.6566 - accuracy: 0.1000 - val_loss: 2.6887 - val_accuracy: 0.0790\n",
            "Epoch 23/120\n",
            "32/32 [==============================] - 5s 164ms/step - loss: 2.6512 - accuracy: 0.1140 - val_loss: 2.6913 - val_accuracy: 0.0790\n",
            "Epoch 24/120\n",
            "32/32 [==============================] - 5s 164ms/step - loss: 2.6507 - accuracy: 0.1070 - val_loss: 2.6876 - val_accuracy: 0.0790\n",
            "Epoch 25/120\n",
            "32/32 [==============================] - 5s 164ms/step - loss: 2.6477 - accuracy: 0.1170 - val_loss: 2.6826 - val_accuracy: 0.0790\n",
            "Epoch 26/120\n",
            "32/32 [==============================] - 5s 163ms/step - loss: 2.6478 - accuracy: 0.1090 - val_loss: 2.6838 - val_accuracy: 0.0790\n",
            "Epoch 27/120\n",
            "32/32 [==============================] - 5s 165ms/step - loss: 2.6405 - accuracy: 0.0990 - val_loss: 2.6923 - val_accuracy: 0.0790\n",
            "Epoch 28/120\n",
            "32/32 [==============================] - 5s 163ms/step - loss: 2.6377 - accuracy: 0.1150 - val_loss: 2.6814 - val_accuracy: 0.0790\n",
            "Epoch 29/120\n",
            "32/32 [==============================] - 5s 164ms/step - loss: 2.6380 - accuracy: 0.1080 - val_loss: 2.6644 - val_accuracy: 0.1080\n",
            "Epoch 30/120\n",
            "32/32 [==============================] - 5s 164ms/step - loss: 2.6202 - accuracy: 0.1270 - val_loss: 2.6530 - val_accuracy: 0.1250\n",
            "Epoch 31/120\n",
            "32/32 [==============================] - 5s 165ms/step - loss: 2.6082 - accuracy: 0.1330 - val_loss: 2.6398 - val_accuracy: 0.1010\n",
            "Epoch 32/120\n",
            "32/32 [==============================] - 5s 163ms/step - loss: 2.5841 - accuracy: 0.1390 - val_loss: 2.6262 - val_accuracy: 0.1060\n",
            "Epoch 33/120\n",
            "32/32 [==============================] - 5s 165ms/step - loss: 2.5609 - accuracy: 0.1480 - val_loss: 2.6494 - val_accuracy: 0.0900\n",
            "Epoch 34/120\n",
            "32/32 [==============================] - 5s 162ms/step - loss: 2.5406 - accuracy: 0.1440 - val_loss: 2.5959 - val_accuracy: 0.1190\n",
            "Epoch 35/120\n",
            "32/32 [==============================] - 5s 165ms/step - loss: 2.5150 - accuracy: 0.1540 - val_loss: 2.5667 - val_accuracy: 0.1400\n",
            "Epoch 36/120\n",
            "32/32 [==============================] - 5s 163ms/step - loss: 2.4948 - accuracy: 0.1620 - val_loss: 2.6126 - val_accuracy: 0.1200\n",
            "Epoch 37/120\n",
            "32/32 [==============================] - 5s 164ms/step - loss: 2.4774 - accuracy: 0.1700 - val_loss: 2.5847 - val_accuracy: 0.1330\n",
            "Epoch 38/120\n",
            "32/32 [==============================] - 5s 164ms/step - loss: 2.4782 - accuracy: 0.1680 - val_loss: 2.5665 - val_accuracy: 0.1700\n",
            "Epoch 39/120\n",
            "32/32 [==============================] - 5s 164ms/step - loss: 2.4533 - accuracy: 0.1910 - val_loss: 2.5709 - val_accuracy: 0.1740\n",
            "Epoch 40/120\n",
            "32/32 [==============================] - 7s 221ms/step - loss: 2.4415 - accuracy: 0.1890 - val_loss: 2.5228 - val_accuracy: 0.1790\n",
            "Epoch 41/120\n",
            "32/32 [==============================] - 5s 163ms/step - loss: 2.4312 - accuracy: 0.1820 - val_loss: 2.5020 - val_accuracy: 0.1840\n",
            "Epoch 42/120\n",
            "32/32 [==============================] - 5s 164ms/step - loss: 2.4202 - accuracy: 0.1890 - val_loss: 2.5601 - val_accuracy: 0.1720\n",
            "Epoch 43/120\n",
            "32/32 [==============================] - 5s 164ms/step - loss: 2.4070 - accuracy: 0.2090 - val_loss: 2.4796 - val_accuracy: 0.1880\n",
            "Epoch 44/120\n",
            "32/32 [==============================] - 5s 165ms/step - loss: 2.3946 - accuracy: 0.1910 - val_loss: 2.5656 - val_accuracy: 0.1700\n",
            "Epoch 45/120\n",
            "32/32 [==============================] - 5s 165ms/step - loss: 2.3716 - accuracy: 0.2030 - val_loss: 2.4596 - val_accuracy: 0.2010\n",
            "Epoch 46/120\n",
            "32/32 [==============================] - 5s 165ms/step - loss: 2.3743 - accuracy: 0.1890 - val_loss: 2.4941 - val_accuracy: 0.1920\n",
            "Epoch 47/120\n",
            "32/32 [==============================] - 5s 164ms/step - loss: 2.3619 - accuracy: 0.2080 - val_loss: 2.4911 - val_accuracy: 0.1940\n",
            "Epoch 48/120\n",
            "32/32 [==============================] - 5s 165ms/step - loss: 2.3522 - accuracy: 0.2150 - val_loss: 2.5846 - val_accuracy: 0.1660\n",
            "Epoch 49/120\n",
            "32/32 [==============================] - 5s 164ms/step - loss: 2.3365 - accuracy: 0.2140 - val_loss: 2.5474 - val_accuracy: 0.1730\n",
            "Epoch 50/120\n",
            "32/32 [==============================] - 5s 164ms/step - loss: 2.3367 - accuracy: 0.2060 - val_loss: 2.5152 - val_accuracy: 0.1900\n",
            "Epoch 51/120\n",
            "32/32 [==============================] - 5s 164ms/step - loss: 2.3319 - accuracy: 0.2270 - val_loss: 2.4973 - val_accuracy: 0.1740\n",
            "Epoch 52/120\n",
            "32/32 [==============================] - 5s 165ms/step - loss: 2.3306 - accuracy: 0.2150 - val_loss: 2.5279 - val_accuracy: 0.1810\n",
            "Epoch 53/120\n",
            "32/32 [==============================] - 5s 164ms/step - loss: 2.3216 - accuracy: 0.2280 - val_loss: 2.4612 - val_accuracy: 0.2150\n",
            "Epoch 54/120\n",
            "32/32 [==============================] - 5s 165ms/step - loss: 2.2991 - accuracy: 0.2360 - val_loss: 2.4157 - val_accuracy: 0.2160\n",
            "Epoch 55/120\n",
            "32/32 [==============================] - 5s 164ms/step - loss: 2.2863 - accuracy: 0.2260 - val_loss: 2.4325 - val_accuracy: 0.2060\n",
            "Epoch 56/120\n",
            "32/32 [==============================] - 5s 164ms/step - loss: 2.2951 - accuracy: 0.2400 - val_loss: 2.4122 - val_accuracy: 0.2180\n",
            "Epoch 57/120\n",
            "32/32 [==============================] - 5s 165ms/step - loss: 2.2706 - accuracy: 0.2500 - val_loss: 2.5120 - val_accuracy: 0.2040\n",
            "Epoch 58/120\n",
            "32/32 [==============================] - 5s 164ms/step - loss: 2.2838 - accuracy: 0.2340 - val_loss: 2.4236 - val_accuracy: 0.2100\n",
            "Epoch 59/120\n",
            "32/32 [==============================] - 5s 163ms/step - loss: 2.2442 - accuracy: 0.2530 - val_loss: 2.4114 - val_accuracy: 0.2140\n",
            "Epoch 60/120\n",
            "32/32 [==============================] - 5s 165ms/step - loss: 2.2570 - accuracy: 0.2400 - val_loss: 2.4015 - val_accuracy: 0.2270\n",
            "Epoch 61/120\n",
            "32/32 [==============================] - 5s 163ms/step - loss: 2.2299 - accuracy: 0.2670 - val_loss: 2.5606 - val_accuracy: 0.1880\n",
            "Epoch 62/120\n",
            "32/32 [==============================] - 5s 164ms/step - loss: 2.2521 - accuracy: 0.2440 - val_loss: 2.4444 - val_accuracy: 0.2080\n",
            "Epoch 63/120\n",
            "32/32 [==============================] - 5s 163ms/step - loss: 2.2230 - accuracy: 0.2540 - val_loss: 2.4004 - val_accuracy: 0.2280\n",
            "Epoch 64/120\n",
            "32/32 [==============================] - 5s 166ms/step - loss: 2.2346 - accuracy: 0.2470 - val_loss: 2.3938 - val_accuracy: 0.2270\n",
            "Epoch 65/120\n",
            "32/32 [==============================] - 7s 217ms/step - loss: 2.2369 - accuracy: 0.2640 - val_loss: 2.3814 - val_accuracy: 0.2250\n",
            "Epoch 66/120\n",
            "32/32 [==============================] - 5s 165ms/step - loss: 2.2098 - accuracy: 0.2540 - val_loss: 2.4037 - val_accuracy: 0.2260\n",
            "Epoch 67/120\n",
            "32/32 [==============================] - 5s 164ms/step - loss: 2.2240 - accuracy: 0.2400 - val_loss: 2.4425 - val_accuracy: 0.2080\n",
            "Epoch 68/120\n",
            "32/32 [==============================] - 5s 164ms/step - loss: 2.2114 - accuracy: 0.2510 - val_loss: 2.3876 - val_accuracy: 0.2260\n",
            "Epoch 69/120\n",
            "32/32 [==============================] - 5s 163ms/step - loss: 2.1820 - accuracy: 0.2700 - val_loss: 2.4206 - val_accuracy: 0.2220\n",
            "Epoch 70/120\n",
            "32/32 [==============================] - 5s 164ms/step - loss: 2.1863 - accuracy: 0.2770 - val_loss: 2.3948 - val_accuracy: 0.2180\n",
            "Epoch 71/120\n",
            "32/32 [==============================] - 5s 164ms/step - loss: 2.1727 - accuracy: 0.2800 - val_loss: 2.3942 - val_accuracy: 0.2350\n",
            "Epoch 72/120\n",
            "32/32 [==============================] - 5s 163ms/step - loss: 2.1791 - accuracy: 0.2830 - val_loss: 2.4103 - val_accuracy: 0.2260\n",
            "Epoch 73/120\n",
            "32/32 [==============================] - 5s 163ms/step - loss: 2.1668 - accuracy: 0.2810 - val_loss: 2.3941 - val_accuracy: 0.2360\n",
            "Epoch 74/120\n",
            "32/32 [==============================] - 5s 164ms/step - loss: 2.1678 - accuracy: 0.2800 - val_loss: 2.4508 - val_accuracy: 0.2220\n",
            "Epoch 75/120\n",
            "32/32 [==============================] - 5s 164ms/step - loss: 2.1618 - accuracy: 0.2870 - val_loss: 2.3854 - val_accuracy: 0.2200\n",
            "Epoch 76/120\n",
            "32/32 [==============================] - 5s 165ms/step - loss: 2.1318 - accuracy: 0.2930 - val_loss: 2.4530 - val_accuracy: 0.2250\n",
            "Epoch 77/120\n",
            "32/32 [==============================] - 5s 164ms/step - loss: 2.1454 - accuracy: 0.2840 - val_loss: 2.4118 - val_accuracy: 0.2290\n",
            "Epoch 78/120\n",
            "32/32 [==============================] - 5s 164ms/step - loss: 2.1243 - accuracy: 0.3040 - val_loss: 2.4072 - val_accuracy: 0.2380\n",
            "Epoch 79/120\n",
            "32/32 [==============================] - 5s 164ms/step - loss: 2.1252 - accuracy: 0.3050 - val_loss: 2.3802 - val_accuracy: 0.2380\n",
            "Epoch 80/120\n",
            "32/32 [==============================] - 5s 164ms/step - loss: 2.1264 - accuracy: 0.2960 - val_loss: 2.4447 - val_accuracy: 0.2250\n",
            "Epoch 81/120\n",
            "32/32 [==============================] - 5s 164ms/step - loss: 2.0996 - accuracy: 0.3120 - val_loss: 2.4150 - val_accuracy: 0.2250\n",
            "Epoch 82/120\n",
            "32/32 [==============================] - 5s 164ms/step - loss: 2.1041 - accuracy: 0.2900 - val_loss: 2.3827 - val_accuracy: 0.2370\n",
            "Epoch 83/120\n",
            "32/32 [==============================] - 5s 165ms/step - loss: 2.1009 - accuracy: 0.3120 - val_loss: 2.3993 - val_accuracy: 0.2270\n",
            "Epoch 84/120\n",
            "32/32 [==============================] - 5s 165ms/step - loss: 2.1019 - accuracy: 0.3000 - val_loss: 2.4675 - val_accuracy: 0.2200\n",
            "Epoch 85/120\n",
            "32/32 [==============================] - 5s 164ms/step - loss: 2.0956 - accuracy: 0.2980 - val_loss: 2.3945 - val_accuracy: 0.2340\n",
            "Epoch 86/120\n",
            "32/32 [==============================] - 5s 165ms/step - loss: 2.0646 - accuracy: 0.3040 - val_loss: 2.6955 - val_accuracy: 0.1970\n",
            "Epoch 87/120\n",
            "32/32 [==============================] - 5s 164ms/step - loss: 2.0947 - accuracy: 0.2800 - val_loss: 2.3970 - val_accuracy: 0.2280\n",
            "Epoch 88/120\n",
            "32/32 [==============================] - 5s 165ms/step - loss: 2.0808 - accuracy: 0.2960 - val_loss: 2.3918 - val_accuracy: 0.2360\n",
            "Epoch 89/120\n",
            "32/32 [==============================] - 6s 189ms/step - loss: 2.0748 - accuracy: 0.3060 - val_loss: 2.3924 - val_accuracy: 0.2330\n",
            "Epoch 90/120\n",
            "32/32 [==============================] - 6s 197ms/step - loss: 2.0407 - accuracy: 0.3300 - val_loss: 2.4200 - val_accuracy: 0.2310\n",
            "Epoch 91/120\n",
            "32/32 [==============================] - 5s 165ms/step - loss: 2.0773 - accuracy: 0.3240 - val_loss: 2.3961 - val_accuracy: 0.2220\n",
            "Epoch 92/120\n",
            "32/32 [==============================] - 5s 165ms/step - loss: 2.0462 - accuracy: 0.3270 - val_loss: 2.3834 - val_accuracy: 0.2290\n",
            "Epoch 93/120\n",
            "32/32 [==============================] - 5s 164ms/step - loss: 2.0358 - accuracy: 0.3280 - val_loss: 2.3812 - val_accuracy: 0.2260\n",
            "Epoch 94/120\n",
            "32/32 [==============================] - 5s 166ms/step - loss: 2.0361 - accuracy: 0.3090 - val_loss: 2.3854 - val_accuracy: 0.2340\n",
            "Epoch 95/120\n",
            "32/32 [==============================] - 5s 164ms/step - loss: 2.0300 - accuracy: 0.3110 - val_loss: 2.3806 - val_accuracy: 0.2420\n",
            "Epoch 96/120\n",
            "32/32 [==============================] - 5s 165ms/step - loss: 2.0226 - accuracy: 0.3300 - val_loss: 2.4047 - val_accuracy: 0.2320\n",
            "Epoch 97/120\n",
            "32/32 [==============================] - 5s 164ms/step - loss: 1.9966 - accuracy: 0.3560 - val_loss: 2.3979 - val_accuracy: 0.2300\n",
            "Epoch 98/120\n",
            "32/32 [==============================] - 5s 165ms/step - loss: 1.9871 - accuracy: 0.3420 - val_loss: 2.4154 - val_accuracy: 0.2220\n",
            "Epoch 99/120\n",
            "32/32 [==============================] - 5s 165ms/step - loss: 2.0024 - accuracy: 0.3310 - val_loss: 2.4165 - val_accuracy: 0.2240\n",
            "Epoch 100/120\n",
            "32/32 [==============================] - 5s 165ms/step - loss: 1.9828 - accuracy: 0.3460 - val_loss: 2.3976 - val_accuracy: 0.2350\n",
            "Epoch 101/120\n",
            "32/32 [==============================] - 5s 166ms/step - loss: 1.9765 - accuracy: 0.3620 - val_loss: 2.4113 - val_accuracy: 0.2240\n",
            "Epoch 102/120\n",
            "32/32 [==============================] - 5s 164ms/step - loss: 1.9867 - accuracy: 0.3360 - val_loss: 2.3991 - val_accuracy: 0.2330\n",
            "Epoch 103/120\n",
            "32/32 [==============================] - 5s 164ms/step - loss: 1.9834 - accuracy: 0.3280 - val_loss: 2.4249 - val_accuracy: 0.2230\n",
            "Epoch 104/120\n",
            "32/32 [==============================] - 5s 163ms/step - loss: 1.9636 - accuracy: 0.3390 - val_loss: 2.4669 - val_accuracy: 0.2330\n",
            "Epoch 105/120\n",
            "32/32 [==============================] - 5s 165ms/step - loss: 1.9574 - accuracy: 0.3510 - val_loss: 2.4480 - val_accuracy: 0.2280\n",
            "Epoch 106/120\n",
            "32/32 [==============================] - 5s 164ms/step - loss: 1.9607 - accuracy: 0.3490 - val_loss: 2.4409 - val_accuracy: 0.2250\n",
            "Epoch 107/120\n",
            "32/32 [==============================] - 5s 165ms/step - loss: 1.9709 - accuracy: 0.3370 - val_loss: 2.4353 - val_accuracy: 0.2260\n",
            "Epoch 108/120\n",
            "32/32 [==============================] - 5s 165ms/step - loss: 1.9333 - accuracy: 0.3740 - val_loss: 2.4316 - val_accuracy: 0.2350\n",
            "Epoch 109/120\n",
            "32/32 [==============================] - 5s 165ms/step - loss: 1.9444 - accuracy: 0.3510 - val_loss: 2.3951 - val_accuracy: 0.2380\n",
            "Epoch 110/120\n",
            "32/32 [==============================] - 5s 165ms/step - loss: 1.9489 - accuracy: 0.3600 - val_loss: 2.4053 - val_accuracy: 0.2330\n",
            "Epoch 111/120\n",
            "32/32 [==============================] - 5s 166ms/step - loss: 1.9175 - accuracy: 0.3620 - val_loss: 2.4154 - val_accuracy: 0.2350\n",
            "Epoch 112/120\n",
            "32/32 [==============================] - 5s 164ms/step - loss: 1.9372 - accuracy: 0.3520 - val_loss: 2.4547 - val_accuracy: 0.2240\n",
            "Epoch 113/120\n",
            "32/32 [==============================] - 5s 165ms/step - loss: 1.9319 - accuracy: 0.3690 - val_loss: 2.4247 - val_accuracy: 0.2380\n",
            "Epoch 114/120\n",
            "32/32 [==============================] - 7s 223ms/step - loss: 1.9032 - accuracy: 0.3890 - val_loss: 2.4200 - val_accuracy: 0.2270\n",
            "Epoch 115/120\n",
            "32/32 [==============================] - 5s 165ms/step - loss: 1.9053 - accuracy: 0.3700 - val_loss: 2.4466 - val_accuracy: 0.2280\n",
            "Epoch 116/120\n",
            "32/32 [==============================] - 5s 164ms/step - loss: 1.8921 - accuracy: 0.3440 - val_loss: 2.4434 - val_accuracy: 0.2320\n",
            "Epoch 117/120\n",
            "32/32 [==============================] - 5s 166ms/step - loss: 1.8883 - accuracy: 0.3710 - val_loss: 2.4302 - val_accuracy: 0.2320\n",
            "Epoch 118/120\n",
            "32/32 [==============================] - 5s 163ms/step - loss: 1.8989 - accuracy: 0.3610 - val_loss: 2.4195 - val_accuracy: 0.2430\n",
            "Epoch 119/120\n",
            "32/32 [==============================] - 5s 165ms/step - loss: 1.8887 - accuracy: 0.3690 - val_loss: 2.4500 - val_accuracy: 0.2390\n",
            "Epoch 120/120\n",
            "32/32 [==============================] - 5s 164ms/step - loss: 1.8905 - accuracy: 0.3720 - val_loss: 2.4604 - val_accuracy: 0.2310\n"
          ]
        }
      ],
      "source": [
        "history = None  # For recording the history of trainning process.\n",
        "if not data_augmentation:\n",
        "    print('Not using data augmentation.')\n",
        "    history = model.fit(x_train, y_train,\n",
        "              batch_size=batch_size,\n",
        "              epochs=epochs,\n",
        "              validation_data=(x_validation, y_validation),\n",
        "              shuffle=True\n",
        "              )\n",
        "else:\n",
        "    print('Using real-time data augmentation.')\n",
        "    # This will do preprocessing and realtime data augmentation:\n",
        "    datagen = ImageDataGenerator(\n",
        "        featurewise_center=False,  # set input mean to 0 over the dataset\n",
        "        samplewise_center=False,  # set each sample mean to 0\n",
        "        featurewise_std_normalization=False,  # divide inputs by std of the dataset\n",
        "        samplewise_std_normalization=False,  # divide each input by its std\n",
        "        zca_whitening=False,  # apply ZCA whitening\n",
        "        zca_epsilon=1e-06,  # epsilon for ZCA whitening\n",
        "        rotation_range=0,  # randomly rotate images in the range (degrees, 0 to 180)\n",
        "        # randomly shift images horizontally (fraction of total width)\n",
        "        width_shift_range=0.1,\n",
        "        # randomly shift images vertically (fraction of total height)\n",
        "        height_shift_range=0.1,\n",
        "        shear_range=0.,  # set range for random shear\n",
        "        zoom_range=0.,  # set range for random zoom\n",
        "        channel_shift_range=0.,  # set range for random channel shifts\n",
        "        # set mode for filling points outside the input boundaries\n",
        "        fill_mode='nearest',\n",
        "        cval=0.,  # value used for fill_mode = \"constant\"\n",
        "        horizontal_flip=True,  # randomly flip images\n",
        "        vertical_flip=False,  # randomly flip images\n",
        "        # set rescaling factor (applied before any other transformation)\n",
        "        rescale=None,\n",
        "        # set function that will be applied on each input\n",
        "        preprocessing_function=None,\n",
        "        # image data format, either \"channels_first\" or \"channels_last\"\n",
        "        data_format=None,\n",
        "        # fraction of images reserved for validation (strictly between 0 and 1)\n",
        "        validation_split=0.0)\n",
        "\n",
        "    # Compute quantities required for feature-wise normalization\n",
        "    # (std, mean, and principal components if ZCA whitening is applied).\n",
        "    datagen.fit(x_train)\n",
        "\n",
        "    # Fit the model on the batches generated by datagen.flow().\n",
        "    history = model.fit_generator(datagen.flow(x_train, y_train,\n",
        "                                    batch_size=batch_size),\n",
        "                                    epochs=epochs,\n",
        "                                    validation_data=(x_validation, y_validation),\n",
        "                                    workers=4)"
      ]
    },
    {
      "cell_type": "code",
      "execution_count": null,
      "metadata": {
        "colab": {
          "base_uri": "https://localhost:8080/",
          "height": 367
        },
        "id": "7NGvKXsYX0D1",
        "outputId": "dd07aea0-f73d-45b9-c0f9-f513090dfe2a"
      },
      "outputs": [
        {
          "name": "stdout",
          "output_type": "stream",
          "text": [
            "dict_keys(['loss', 'accuracy', 'val_loss', 'val_accuracy'])\n"
          ]
        },
        {
          "data": {
            "image/png": "[encoded data removed]",
            "text/plain": [
              "<Figure size 1080x360 with 2 Axes>"
            ]
          },
          "metadata": {},
          "output_type": "display_data"
        }
      ],
      "source": [
        "def plotmodelhistory(history): \n",
        "    fig, axs = plt.subplots(1,2,figsize=(15,5)) \n",
        "    # summarize history for accuracy\n",
        "    axs[0].plot(history.history['accuracy']) \n",
        "    axs[0].plot(history.history['val_accuracy']) \n",
        "    axs[0].set_title('Model Accuracy')\n",
        "    axs[0].set_ylabel('Accuracy') \n",
        "    axs[0].set_xlabel('Epoch')\n",
        "    axs[0].legend(['train', 'validate'], loc='upper left')\n",
        "    # summarize history for loss\n",
        "    axs[1].plot(history.history['loss']) \n",
        "    axs[1].plot(history.history['val_loss']) \n",
        "    axs[1].set_title('Model Loss')\n",
        "    axs[1].set_ylabel('Loss') \n",
        "    axs[1].set_xlabel('Epoch')\n",
        "    axs[1].legend(['train', 'validate'], loc='upper left')\n",
        "    plt.show()\n",
        "\n",
        "# list all data in history\n",
        "print(history.history.keys())\n",
        "\n",
        "plotmodelhistory(history)"
      ]
    },
    {
      "cell_type": "code",
      "execution_count": null,
      "metadata": {
        "colab": {
          "base_uri": "https://localhost:8080/"
        },
        "id": "-TOv39yVX_rD",
        "outputId": "d967d3f0-58aa-4be9-b1ca-f4c6705072cd"
      },
      "outputs": [
        {
          "name": "stdout",
          "output_type": "stream",
          "text": [
            "32/32 [==============================] - 1s 32ms/step - loss: 2.4091 - accuracy: 0.2360\n",
            "Test loss: 2.4091269969940186\n",
            "Test accuracy: 0.23600000143051147\n"
          ]
        }
      ],
      "source": [
        "# Score trained model.\n",
        "scores = model.evaluate(x_test, y_test, verbose=1)\n",
        "print('Test loss:', scores[0])\n",
        "print('Test accuracy:', scores[1])\n",
        "\n",
        "# make prediction.\n",
        "pred = model.predict(x_test)\n"
      ]
    },
    {
      "cell_type": "code",
      "execution_count": null,
      "metadata": {
        "colab": {
          "base_uri": "https://localhost:8080/"
        },
        "id": "sJf5Os3ggNiA",
        "outputId": "c8338cf9-537c-4e42-d8e1-49089397fe0c"
      },
      "outputs": [
        {
          "name": "stdout",
          "output_type": "stream",
          "text": [
            "(1000, 32, 32, 3)\n"
          ]
        }
      ],
      "source": [
        "print(x_test.shape)"
      ]
    },
    {
      "cell_type": "code",
      "execution_count": null,
      "metadata": {
        "id": "Px9DvRUCYKHi"
      },
      "outputs": [],
      "source": [
        "def heatmap(data, row_labels, col_labels, ax=None, cbar_kw={}, cbarlabel=\"\", **kwargs):\n",
        "    \"\"\"\n",
        "    Create a heatmap from a numpy array and two lists of labels.\n",
        "    \"\"\"\n",
        "    if not ax:\n",
        "        ax = plt.gca()\n",
        "\n",
        "    # Plot the heatmap\n",
        "    im = ax.imshow(data, **kwargs)\n",
        "\n",
        "    # Create colorbar\n",
        "    cbar = ax.figure.colorbar(im, ax=ax, **cbar_kw)\n",
        "    cbar.ax.set_ylabel(cbarlabel, rotation=-90, va=\"bottom\")\n",
        "\n",
        "    # Let the horizontal axes labeling appear on top.\n",
        "    ax.tick_params(top=True, bottom=False,\n",
        "                   labeltop=True, labelbottom=False)\n",
        "    # We want to show all ticks...\n",
        "    ax.set_xticks(np.arange(data.shape[1]))\n",
        "    ax.set_yticks(np.arange(data.shape[0]))\n",
        "    # ... and label them with the respective list entries.\n",
        "    ax.set_xticklabels(col_labels)\n",
        "    ax.set_yticklabels(row_labels)\n",
        "    \n",
        "    ax.set_xlabel('Predicted Label') \n",
        "    ax.set_ylabel('True Label')\n",
        "    \n",
        "    return im, cbar\n",
        "\n",
        "def annotate_heatmap(im, data=None, fmt=\"d\", threshold=None):\n",
        "    \"\"\"\n",
        "    A function to annotate a heatmap.\n",
        "    \"\"\"\n",
        "    # Change the text's color depending on the data.\n",
        "    texts = []\n",
        "    for i in range(data.shape[0]):\n",
        "        for j in range(data.shape[1]):\n",
        "            text = im.axes.text(j, i, format(data[i, j], fmt), horizontalalignment=\"center\",\n",
        "                                 color=\"white\" if data[i, j] > thresh else \"black\")\n",
        "            texts.append(text)\n",
        "\n",
        "    return texts"
      ]
    },
    {
      "cell_type": "code",
      "execution_count": null,
      "metadata": {
        "colab": {
          "base_uri": "https://localhost:8080/",
          "height": 873
        },
        "id": "77tGJDFiYNfB",
        "outputId": "6f46e888-e880-4ae7-d1ac-6d3e291de940"
      },
      "outputs": [
        {
          "data": {
            "image/png": "[encoded data removed]",
            "text/plain": [
              "<Figure size 864x864 with 2 Axes>"
            ]
          },
          "metadata": {},
          "output_type": "display_data"
        }
      ],
      "source": [
        "labels=['airplane', 'automobile', 'bird', 'cat','deer', 'dog', 'frog',\n",
        "        'horse', 'ship', 'truck', 'household electrical devices', 'insects',\n",
        "        'large carnivores', 'non-insect invertebrates', 'small mammals']\n",
        "\n",
        "# Convert predictions classes to one hot vectors \n",
        "Y_pred_classes = np.argmax(pred, axis=1) \n",
        "# Convert validation observations to one hot vectors\n",
        "Y_true = np.argmax(y_test, axis=1)\n",
        "# Errors are difference between predicted labels and true labels\n",
        "errors = (Y_pred_classes - Y_true != 0)\n",
        "\n",
        "Y_pred_classes_errors = Y_pred_classes[errors]\n",
        "Y_pred_errors = pred[errors]\n",
        "Y_true_errors = Y_true[errors]\n",
        "X_test_errors = x_test[errors]\n",
        "\n",
        "cm = confusion_matrix(Y_true, Y_pred_classes) \n",
        "thresh = cm.max() / 2.\n",
        "\n",
        "fig, ax = plt.subplots(figsize=(12,12))\n",
        "im, cbar = heatmap(cm, labels, labels, ax=ax,\n",
        "                   cmap=plt.cm.Blues, cbarlabel=\"count of predictions\")\n",
        "texts = annotate_heatmap(im, data=cm, threshold=thresh)\n",
        "\n",
        "fig.tight_layout()\n",
        "plt.show()"
      ]
    },
    {
      "cell_type": "code",
      "execution_count": null,
      "metadata": {
        "id": "X1rXeVaHYaXZ"
      },
      "outputs": [],
      "source": [
        ""
      ]
    }
  ],
  "metadata": {
    "accelerator": "GPU",
    "colab": {
      "collapsed_sections": [],
      "name": "Untitled0.ipynb",
      "provenance": [],
      "authorship_tag": "ABX9TyO5RGPKgBiukdh3AktHXZP5",
      "include_colab_link": true
    },
    "gpuClass": "standard",
    "kernelspec": {
      "display_name": "Python 3",
      "name": "python3"
    },
    "language_info": {
      "name": "python"
    }
  },
  "nbformat": 4,
  "nbformat_minor": 0
}